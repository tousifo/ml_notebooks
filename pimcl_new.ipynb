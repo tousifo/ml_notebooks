{
  "nbformat": 4,
  "nbformat_minor": 0,
  "metadata": {
    "colab": {
      "provenance": [],
      "gpuType": "T4",
      "mount_file_id": "1NxHcpDO_wVnacHMXnknlvgyS6HoyEKRZ",
      "authorship_tag": "ABX9TyPj8sAzNhfA2qH6PhFjS+eS",
      "include_colab_link": true
    },
    "kernelspec": {
      "name": "python3",
      "display_name": "Python 3"
    },
    "language_info": {
      "name": "python"
    },
    "accelerator": "GPU"
  },
  "cells": [
    {
      "cell_type": "markdown",
      "metadata": {
        "id": "view-in-github",
        "colab_type": "text"
      },
      "source": [
        "<a href=\"https://colab.research.google.com/github/tousifo/ml_notebooks/blob/main/pimcl_new.ipynb\" target=\"_parent\"><img src=\"https://colab.research.google.com/assets/colab-badge.svg\" alt=\"Open In Colab\"/></a>"
      ]
    },
    {
      "cell_type": "markdown",
      "source": [
        "#Preprocess"
      ],
      "metadata": {
        "id": "Mv1P8Dwwt8PN"
      }
    },
    {
      "cell_type": "code",
      "execution_count": null,
      "metadata": {
        "colab": {
          "base_uri": "https://localhost:8080/"
        },
        "id": "K7qdkd3A2EkH",
        "outputId": "ade0e06b-998d-4cb1-fc8d-702b0017f60f"
      },
      "outputs": [
        {
          "output_type": "stream",
          "name": "stdout",
          "text": [
            "Extracting /content/drive/MyDrive/oaisis.zip -> /content/oasis_data...\n",
            "Using data root: /content/oasis_data/Data\n"
          ]
        }
      ],
      "source": [
        "import os\n",
        "import zipfile\n",
        "import glob\n",
        "import numpy as np\n",
        "from PIL import Image\n",
        "import torch\n",
        "import torch.nn.functional as F\n",
        "from torch.utils.data import Dataset, DataLoader, WeightedRandomSampler\n",
        "from torchvision import transforms\n",
        "from sklearn.model_selection import StratifiedShuffleSplit\n",
        "\n",
        "# Paths & Extraction\n",
        "ZIP_PATH    = \"/content/drive/MyDrive/oaisis.zip\"\n",
        "EXTRACT_DIR = \"/content/oasis_data\"\n",
        "\n",
        "if not os.path.exists(EXTRACT_DIR) or not os.listdir(EXTRACT_DIR):\n",
        "    print(f\"Extracting {ZIP_PATH} -> {EXTRACT_DIR}...\")\n",
        "    with zipfile.ZipFile(ZIP_PATH, 'r') as zf:\n",
        "        zf.extractall(EXTRACT_DIR)\n",
        "\n",
        "# Detect true data root\n",
        "LABEL_MAP = {\n",
        "    \"Non Demented\":       0,\n",
        "    \"Very mild Dementia\": 1,\n",
        "    \"Mild Dementia\":      2,\n",
        "    \"Moderate Dementia\":  3\n",
        "}\n",
        "\n",
        "candidates = [EXTRACT_DIR] + [os.path.join(EXTRACT_DIR, d) for d in os.listdir(EXTRACT_DIR)]\n",
        "DATA_ROOT = None\n",
        "for cand in candidates:\n",
        "    if all(os.path.isdir(os.path.join(cand, lbl)) for lbl in LABEL_MAP):\n",
        "        DATA_ROOT = cand\n",
        "        break\n",
        "if DATA_ROOT is None:\n",
        "    raise RuntimeError(f\"Could not find class folders under {EXTRACT_DIR}\")\n",
        "print(\"Using data root:\", DATA_ROOT)\n",
        "\n",
        "# Build samples & split\n",
        "all_samples = []\n",
        "for label_name, lbl in LABEL_MAP.items():\n",
        "    pattern = os.path.join(DATA_ROOT, label_name, \"*.jpg\")\n",
        "    files = glob.glob(pattern)\n",
        "    if not files:\n",
        "        raise RuntimeError(f\"No images for '{label_name}' in {pattern}\")\n",
        "    all_samples += [(fp, lbl) for fp in files]\n",
        "\n",
        "paths, labels = zip(*all_samples)\n",
        "labels = np.array(labels)\n",
        "\n",
        "sss = StratifiedShuffleSplit(n_splits=1, test_size=0.2, random_state=42)\n",
        "train_idx, val_idx = next(sss.split(paths, labels))\n",
        "train_list = [all_samples[i] for i in train_idx]\n",
        "val_list   = [all_samples[i] for i in val_idx]\n",
        "\n",
        "# Compute class weights\n",
        "train_labels = labels[train_idx]\n",
        "class_counts = np.bincount(train_labels, minlength=len(LABEL_MAP))\n",
        "class_weights = torch.tensor(1.0 / class_counts, dtype=torch.float32)\n",
        "\n",
        "# Sampler\n",
        "sample_weights = [class_weights[lbl].item() for _, lbl in train_list]\n",
        "train_sampler = WeightedRandomSampler(sample_weights, len(sample_weights), replacement=True)\n",
        "\n",
        "# Patch Extraction\n",
        "PATCH_SIZE = (32, 32)\n",
        "LARGE_SIZE = (64, 64)\n",
        "NUM_PATCHES = 25\n",
        "\n",
        "def extract_multi_scale_patches(img_t, num_patches=NUM_PATCHES,\n",
        "                                patch_size=PATCH_SIZE, large_size=LARGE_SIZE):\n",
        "    C, H, W = img_t.shape\n",
        "    patches = []\n",
        "    ph, pw = patch_size\n",
        "    ph2, pw2 = large_size\n",
        "\n",
        "    # Center\n",
        "    top_c = H//2 - ph//2\n",
        "    left_c= W//2 - pw//2\n",
        "    patches.append(img_t[:, top_c:top_c+ph, left_c:left_c+pw])\n",
        "\n",
        "    # Random small\n",
        "    small_n = int((num_patches-1)*0.5)\n",
        "    for _ in range(small_n):\n",
        "        t = np.random.randint(0, H-ph+1)\n",
        "        l = np.random.randint(0, W-pw+1)\n",
        "        patches.append(img_t[:, t:t+ph, l:l+pw])\n",
        "\n",
        "    # Random large\n",
        "    large_n = (num_patches-1-small_n)\n",
        "    for _ in range(large_n):\n",
        "        t = np.random.randint(0, H-ph2+1)\n",
        "        l = np.random.randint(0, W-pw2+1)\n",
        "        lp = img_t[:, t:t+ph2, l:l+pw2].unsqueeze(0)\n",
        "        lp_res = F.interpolate(lp, size=patch_size, mode='bilinear', align_corners=False)\n",
        "        patches.append(lp_res.squeeze(0))\n",
        "\n",
        "    return torch.stack(patches[:num_patches], dim=0)\n",
        "\n",
        "# Dataset & DataLoaders\n",
        "class OASISPatchDataset(Dataset):\n",
        "    def __init__(self, samples, transform):\n",
        "        self.samples = samples\n",
        "        self.transform = transform\n",
        "    def __len__(self): return len(self.samples)\n",
        "    def __getitem__(self, i):\n",
        "        fp, lbl = self.samples[i]\n",
        "        img = Image.open(fp).convert('L')\n",
        "        img_t = self.transform(img)\n",
        "        patches = extract_multi_scale_patches(img_t)\n",
        "        return patches, lbl\n",
        "\n",
        "train_tf = transforms.Compose([\n",
        "    transforms.Resize(280),\n",
        "    transforms.RandomCrop(256),\n",
        "    transforms.RandomHorizontalFlip(),\n",
        "    transforms.ColorJitter(brightness=0.1, contrast=0.1),\n",
        "    transforms.ToTensor(),\n",
        "])\n",
        "val_tf = transforms.Compose([\n",
        "    transforms.Resize(256),\n",
        "    transforms.CenterCrop(256),\n",
        "    transforms.ToTensor(),\n",
        "])\n",
        "\n",
        "train_ds = OASISPatchDataset(train_list, train_tf)\n",
        "val_ds   = OASISPatchDataset(val_list,   val_tf)\n",
        "\n",
        "BATCH_SIZE = 16\n",
        "train_loader = DataLoader(train_ds, batch_size=BATCH_SIZE,\n",
        "                          sampler=train_sampler, num_workers=2)\n",
        "val_loader   = DataLoader(val_ds,   batch_size=BATCH_SIZE,\n",
        "                          shuffle=False, num_workers=2)"
      ]
    },
    {
      "cell_type": "markdown",
      "source": [
        "#Model"
      ],
      "metadata": {
        "id": "o1xrI2CouBCa"
      }
    },
    {
      "cell_type": "code",
      "source": [
        "import torch\n",
        "import torch.nn as nn\n",
        "import torch.nn.functional as F\n",
        "import torchvision\n",
        "\n",
        "EMBED_DIM   = 128\n",
        "NUM_CLASSES = 4  # Number of classes from LABEL_MAP\n",
        "TEMPERATURE = 0.1\n",
        "DEVICE = torch.device('cuda' if torch.cuda.is_available() else 'cpu')\n",
        "\n",
        "class PatchResNet(nn.Module):\n",
        "    def __init__(self, embed_dim):\n",
        "        super().__init__()\n",
        "        resnet = torchvision.models.resnet18(pretrained=True)\n",
        "        self.backbone = nn.Sequential(*list(resnet.children())[:-2])\n",
        "        self.pool = nn.AdaptiveAvgPool2d(1)\n",
        "        self.fc   = nn.Linear(resnet.fc.in_features, embed_dim)\n",
        "    def forward(self, x):\n",
        "        B,N = x.shape[:2]\n",
        "        x = x.view(B*N, 3, *x.shape[-2:])\n",
        "        x = self.backbone(x)\n",
        "        x = self.pool(x).view(B*N, -1)\n",
        "        x = F.normalize(self.fc(x), dim=1)\n",
        "        return x.view(B, N, -1)\n",
        "\n",
        "class TopKAttentionMIL(nn.Module):\n",
        "    def __init__(self, embed_dim, num_classes, k=5):\n",
        "        super().__init__()\n",
        "        self.scorer = nn.Linear(embed_dim,1)\n",
        "        self.cls    = nn.Linear(embed_dim,num_classes)\n",
        "        self.k      = k\n",
        "    def forward(self, emb):\n",
        "        scores = self.scorer(emb).squeeze(-1)\n",
        "        topv, topi = torch.topk(scores, self.k, dim=1)\n",
        "        idx = topi.unsqueeze(-1).expand(-1,-1,emb.size(-1))\n",
        "        sel = emb.gather(1, idx)\n",
        "        M = sel.mean(dim=1)\n",
        "        return self.cls(M), scores\n",
        "\n",
        "class PrototypeContrastiveLoss(nn.Module):\n",
        "    def __init__(self, n_cls, dim, temp):\n",
        "        super().__init__()\n",
        "        self.protos = nn.Parameter(torch.randn(n_cls, dim))\n",
        "        self.temp   = temp\n",
        "    def forward(self, emb, labels):\n",
        "        B,N,D = emb.shape\n",
        "        flat = emb.view(B*N, D)\n",
        "        labs = labels.unsqueeze(1).repeat(1,N).view(-1)\n",
        "        sims = F.cosine_similarity(flat.unsqueeze(1), self.protos.unsqueeze(0), dim=-1)/self.temp\n",
        "        return F.cross_entropy(sims, labs)\n",
        "\n",
        "class PMICL2D_ResNet_TopK(nn.Module):\n",
        "    def __init__(self, embed_dim, num_classes, temperature, topk=5):\n",
        "        super().__init__()\n",
        "        self.encoder    = PatchResNet(embed_dim)\n",
        "        self.aggregator = TopKAttentionMIL(embed_dim,num_classes, k=topk)\n",
        "        self.prot_loss  = PrototypeContrastiveLoss(num_classes, embed_dim, temperature)\n",
        "    def forward(self, patches, labels=None):\n",
        "        patches = patches.repeat(1,1,3,1,1)\n",
        "        emb, _ = self.encoder(patches), None\n",
        "        logits, scores = self.aggregator(emb)\n",
        "        p_loss = self.prot_loss(emb, labels) if labels is not None else 0\n",
        "        return logits, p_loss, scores\n",
        "    def bag_embedding(self, patches):\n",
        "        with torch.no_grad():\n",
        "            patches = patches.repeat(1,1,3,1,1)\n",
        "            emb = self.encoder(patches)\n",
        "            scores = self.aggregator.scorer(emb).squeeze(-1)\n",
        "            topv, topi = torch.topk(scores, self.aggregator.k, dim=1)\n",
        "            idx = topi.unsqueeze(-1).expand(-1,-1,emb.size(-1))\n",
        "            sel = emb.gather(1, idx)\n",
        "            return sel.mean(dim=1).cpu().numpy()"
      ],
      "metadata": {
        "id": "c32mBjyouGG1"
      },
      "execution_count": null,
      "outputs": []
    },
    {
      "cell_type": "markdown",
      "source": [
        "#Train"
      ],
      "metadata": {
        "id": "wHm2Yl6huKMR"
      }
    },
    {
      "cell_type": "code",
      "source": [
        "from sklearn.metrics import f1_score\n",
        "from tqdm import tqdm\n",
        "\n",
        "PROTO_WEIGHT = 0.1\n",
        "\n",
        "def train_mil_only(model, loader, epochs=10, lr=1e-4):\n",
        "    opt = torch.optim.AdamW(model.parameters(), lr=lr)\n",
        "    for ep in range(1, epochs+1):\n",
        "        model.train()\n",
        "        all_p, all_t = [], []\n",
        "        for patches, labels in tqdm(loader, desc=f\"MIL-only Ep{ep}\"):\n",
        "            patches, labels = patches.to(DEVICE), labels.to(DEVICE)\n",
        "            opt.zero_grad()\n",
        "            logits, _, _ = model(patches, labels)\n",
        "            loss = F.cross_entropy(logits, labels)\n",
        "            loss.backward(); opt.step()\n",
        "            preds = logits.argmax(1)\n",
        "            all_p += preds.cpu().tolist(); all_t += labels.cpu().tolist()\n",
        "        print(f\"Ep{ep} MIL-only F1={f1_score(all_t, all_p, average='weighted'):.4f}\")\n",
        "\n",
        "def pretrain_encoder(model, loader, epochs=5, lr=1e-4):\n",
        "    enc = model.encoder\n",
        "    opt = torch.optim.AdamW(enc.parameters(), lr=lr)\n",
        "    for ep in range(1, epochs+1):\n",
        "        enc.train()\n",
        "        total=0\n",
        "        for patches, labels in tqdm(loader, desc=f\"Proto-pretrain Ep{ep}\"):\n",
        "            patches, labels = patches.to(DEVICE), labels.to(DEVICE)\n",
        "            opt.zero_grad()\n",
        "            patches3 = patches.repeat(1,1,3,1,1)\n",
        "            emb = enc(patches3)\n",
        "            loss = model.prot_loss(emb, labels)\n",
        "            loss.backward(); opt.step()\n",
        "            total += loss.item()\n",
        "        print(f\"Ep{ep} Proto Loss={total/len(loader):.4f}\")\n",
        "\n",
        "def train_mil_head(model, loader, epochs=5, lr=1e-4):\n",
        "    for p in model.encoder.parameters(): p.requires_grad=False\n",
        "    opt = torch.optim.AdamW(model.aggregator.parameters(), lr=lr)\n",
        "    for ep in range(1, epochs+1):\n",
        "        model.train()\n",
        "        all_p, all_t=[],[]; total=0\n",
        "        for patches, labels in tqdm(loader, desc=f\"MIL-head Ep{ep}\"):\n",
        "            patches, labels=patches.to(DEVICE),labels.to(DEVICE)\n",
        "            opt.zero_grad()\n",
        "            logits, _, _ = model(patches, labels)\n",
        "            loss = F.cross_entropy(logits, labels)\n",
        "            loss.backward(); opt.step(); total+=loss.item()\n",
        "            preds=logits.argmax(1)\n",
        "            all_p+=preds.cpu().tolist(); all_t+=labels.cpu().tolist()\n",
        "        print(f\"Ep{ep} MIL-head F1={f1_score(all_t, all_p, average='weighted'):.4f}\")\n",
        "\n",
        "def fine_tune_end2end(model, loader, epochs=10, lr=1e-5, proto_weight=PROTO_WEIGHT):\n",
        "    for p in model.encoder.parameters(): p.requires_grad=True\n",
        "    opt = torch.optim.AdamW(model.parameters(), lr=lr)\n",
        "    for ep in range(1, epochs+1):\n",
        "        model.train()\n",
        "        all_p, all_t=[],[]; total=0\n",
        "        for patches, labels in tqdm(loader, desc=f\"FT Ep{ep}\"):\n",
        "            patches, labels=patches.to(DEVICE),labels.to(DEVICE)\n",
        "            opt.zero_grad()\n",
        "            logits, p_loss, _ = model(patches, labels)\n",
        "            c_loss=F.cross_entropy(logits, labels)\n",
        "            loss = (1-proto_weight)*c_loss + proto_weight*p_loss\n",
        "            loss.backward(); opt.step(); total+=loss.item()\n",
        "            preds=logits.argmax(1)\n",
        "            all_p+=preds.cpu().tolist(); all_t+=labels.cpu().tolist()\n",
        "        print(f\"Ep{ep} FT F1={f1_score(all_t, all_p, average='weighted'):.4f}\")"
      ],
      "metadata": {
        "id": "P0KMKGCduLrQ"
      },
      "execution_count": null,
      "outputs": []
    },
    {
      "cell_type": "markdown",
      "source": [
        "#Evaluation"
      ],
      "metadata": {
        "id": "lRTvtydiuNkO"
      }
    },
    {
      "cell_type": "code",
      "source": [
        "from sklearn.metrics import accuracy_score, f1_score, confusion_matrix\n",
        "import matplotlib.pyplot as plt\n",
        "import seaborn as sns\n",
        "from tqdm import tqdm\n",
        "\n",
        "# Define LABEL_MAP for plotting (same as in preprocess_data)\n",
        "LABEL_MAP = {\n",
        "    \"Non Demented\":       0,\n",
        "    \"Very mild Dementia\": 1,\n",
        "    \"Mild Dementia\":      2,\n",
        "    \"Moderate Dementia\":  3\n",
        "}\n",
        "\n",
        "def evaluate_model(model, val_loader):\n",
        "    model.eval()\n",
        "    all_preds = []\n",
        "    all_labels = []\n",
        "    with torch.no_grad():\n",
        "        for patches, labels in tqdm(val_loader, desc=\"Evaluating\"):\n",
        "            patches = patches.to(DEVICE)\n",
        "            logits, _, _ = model(patches)\n",
        "            preds = logits.argmax(1)\n",
        "            all_preds.extend(preds.cpu().numpy())\n",
        "            all_labels.extend(labels.numpy())\n",
        "\n",
        "    accuracy = accuracy_score(all_labels, all_preds)\n",
        "    f1 = f1_score(all_labels, all_preds, average='weighted')\n",
        "    cm = confusion_matrix(all_labels, all_preds)\n",
        "\n",
        "    print(f\"Validation Accuracy: {accuracy:.4f}\")\n",
        "    print(f\"Validation F1 Score: {f1:.4f}\")\n",
        "    print(\"Confusion Matrix:\")\n",
        "    print(cm)\n",
        "\n",
        "    # Plot confusion matrix\n",
        "    plt.figure(figsize=(8,6))\n",
        "    sns.heatmap(cm, annot=True, fmt='d', cmap='Blues',\n",
        "                xticklabels=LABEL_MAP.keys(),\n",
        "                yticklabels=LABEL_MAP.keys())\n",
        "    plt.xlabel('Predicted')\n",
        "    plt.ylabel('True')\n",
        "    plt.title('Confusion Matrix')\n",
        "    plt.show()\n",
        "\n",
        "    return f1\n",
        "\n",
        "if __name__ == \"__main__\":\n",
        "    model = PMICL2D_ResNet_TopK(EMBED_DIM, NUM_CLASSES, TEMPERATURE, topk=5).to(DEVICE)\n",
        "\n",
        "    val_f1_scores = []\n",
        "\n",
        "    print(\"\\n=== Phase 0: MIL-only Baseline ===\")\n",
        "    train_mil_only(model, train_loader, epochs=10, lr=1e-4)\n",
        "    val_f1 = evaluate_model(model, val_loader)\n",
        "    val_f1_scores.append(val_f1)\n",
        "\n",
        "    print(\"\\n=== Phase 1: Prototype Pre-training ===\")\n",
        "    pretrain_encoder(model, train_loader, epochs=5, lr=1e-4)\n",
        "    val_f1 = evaluate_model(model, val_loader)\n",
        "    val_f1_scores.append(val_f1)\n",
        "\n",
        "    print(\"\\n=== Phase 2: MIL-head Training ===\")\n",
        "    train_mil_head(model, train_loader, epochs=5, lr=1e-4)\n",
        "    val_f1 = evaluate_model(model, val_loader)\n",
        "    val_f1_scores.append(val_f1)\n",
        "\n",
        "    print(\"\\n=== Phase 3: End-to-End Fine-tuning ===\")\n",
        "    fine_tune_end2end(model, train_loader, epochs=10, lr=1e-5, proto_weight=0.1)\n",
        "    val_f1 = evaluate_model(model, val_loader)\n",
        "    val_f1_scores.append(val_f1)\n",
        "\n",
        "    # Plot validation curve\n",
        "    phases = ['Phase 0', 'Phase 1', 'Phase 2', 'Phase 3']\n",
        "    plt.figure(figsize=(8,6))\n",
        "    plt.plot(phases, val_f1_scores, marker='o')\n",
        "    plt.xlabel('Training Phase')\n",
        "    plt.ylabel('Validation F1 Score')\n",
        "    plt.title('Validation Curve')\n",
        "    plt.show()"
      ],
      "metadata": {
        "colab": {
          "base_uri": "https://localhost:8080/",
          "height": 1000
        },
        "id": "BSJr9124uP5S",
        "outputId": "d84d1d96-aa0a-490f-e229-9fcbabb28702"
      },
      "execution_count": null,
      "outputs": [
        {
          "metadata": {
            "tags": null
          },
          "name": "stderr",
          "output_type": "stream",
          "text": [
            "/usr/local/lib/python3.11/dist-packages/torchvision/models/_utils.py:208: UserWarning: The parameter 'pretrained' is deprecated since 0.13 and may be removed in the future, please use 'weights' instead.\n",
            "  warnings.warn(\n",
            "/usr/local/lib/python3.11/dist-packages/torchvision/models/_utils.py:223: UserWarning: Arguments other than a weight enum or `None` for 'weights' are deprecated since 0.13 and may be removed in the future. The current behavior is equivalent to passing `weights=ResNet18_Weights.IMAGENET1K_V1`. You can also use `weights=ResNet18_Weights.DEFAULT` to get the most up-to-date weights.\n",
            "  warnings.warn(msg)\n",
            "Downloading: \"https://download.pytorch.org/models/resnet18-f37072fd.pth\" to /root/.cache/torch/hub/checkpoints/resnet18-f37072fd.pth\n",
            "100%|██████████| 44.7M/44.7M [00:00<00:00, 152MB/s]\n"
          ]
        },
        {
          "metadata": {
            "tags": null
          },
          "name": "stdout",
          "output_type": "stream",
          "text": [
            "\n",
            "=== Phase 0: MIL-only Baseline ===\n"
          ]
        },
        {
          "metadata": {
            "tags": null
          },
          "name": "stderr",
          "output_type": "stream",
          "text": [
            "MIL-only Ep1: 100%|██████████| 4322/4322 [05:50<00:00, 12.34it/s]\n"
          ]
        },
        {
          "metadata": {
            "tags": null
          },
          "name": "stdout",
          "output_type": "stream",
          "text": [
            "Ep1 MIL-only F1=0.4698\n"
          ]
        },
        {
          "metadata": {
            "tags": null
          },
          "name": "stderr",
          "output_type": "stream",
          "text": [
            "MIL-only Ep2: 100%|██████████| 4322/4322 [05:52<00:00, 12.27it/s]\n"
          ]
        },
        {
          "metadata": {
            "tags": null
          },
          "name": "stdout",
          "output_type": "stream",
          "text": [
            "Ep2 MIL-only F1=0.5658\n"
          ]
        },
        {
          "metadata": {
            "tags": null
          },
          "name": "stderr",
          "output_type": "stream",
          "text": [
            "MIL-only Ep3: 100%|██████████| 4322/4322 [05:45<00:00, 12.50it/s]\n"
          ]
        },
        {
          "metadata": {
            "tags": null
          },
          "name": "stdout",
          "output_type": "stream",
          "text": [
            "Ep3 MIL-only F1=0.6177\n"
          ]
        },
        {
          "metadata": {
            "tags": null
          },
          "name": "stderr",
          "output_type": "stream",
          "text": [
            "MIL-only Ep4: 100%|██████████| 4322/4322 [05:42<00:00, 12.62it/s]\n"
          ]
        },
        {
          "metadata": {
            "tags": null
          },
          "name": "stdout",
          "output_type": "stream",
          "text": [
            "Ep4 MIL-only F1=0.6528\n"
          ]
        },
        {
          "metadata": {
            "tags": null
          },
          "name": "stderr",
          "output_type": "stream",
          "text": [
            "MIL-only Ep5: 100%|██████████| 4322/4322 [05:41<00:00, 12.67it/s]\n"
          ]
        },
        {
          "metadata": {
            "tags": null
          },
          "name": "stdout",
          "output_type": "stream",
          "text": [
            "Ep5 MIL-only F1=0.6730\n"
          ]
        },
        {
          "metadata": {
            "tags": null
          },
          "name": "stderr",
          "output_type": "stream",
          "text": [
            "MIL-only Ep6: 100%|██████████| 4322/4322 [05:40<00:00, 12.69it/s]\n"
          ]
        },
        {
          "metadata": {
            "tags": null
          },
          "name": "stdout",
          "output_type": "stream",
          "text": [
            "Ep6 MIL-only F1=0.6891\n"
          ]
        },
        {
          "output_type": "stream",
          "name": "stderr",
          "text": [
            "MIL-only Ep7: 100%|██████████| 4322/4322 [05:41<00:00, 12.67it/s]\n"
          ]
        },
        {
          "output_type": "stream",
          "name": "stdout",
          "text": [
            "Ep7 MIL-only F1=0.7014\n"
          ]
        },
        {
          "output_type": "stream",
          "name": "stderr",
          "text": [
            "MIL-only Ep8: 100%|██████████| 4322/4322 [05:39<00:00, 12.74it/s]\n"
          ]
        },
        {
          "output_type": "stream",
          "name": "stdout",
          "text": [
            "Ep8 MIL-only F1=0.7132\n"
          ]
        },
        {
          "output_type": "stream",
          "name": "stderr",
          "text": [
            "MIL-only Ep9: 100%|██████████| 4322/4322 [05:39<00:00, 12.74it/s]\n"
          ]
        },
        {
          "output_type": "stream",
          "name": "stdout",
          "text": [
            "Ep9 MIL-only F1=0.7239\n"
          ]
        },
        {
          "output_type": "stream",
          "name": "stderr",
          "text": [
            "MIL-only Ep10: 100%|██████████| 4322/4322 [05:40<00:00, 12.68it/s]\n"
          ]
        },
        {
          "output_type": "stream",
          "name": "stdout",
          "text": [
            "Ep10 MIL-only F1=0.7320\n"
          ]
        },
        {
          "output_type": "stream",
          "name": "stderr",
          "text": [
            "Evaluating: 100%|██████████| 1081/1081 [00:59<00:00, 18.29it/s]\n"
          ]
        },
        {
          "output_type": "stream",
          "name": "stdout",
          "text": [
            "Validation Accuracy: 0.7075\n",
            "Validation F1 Score: 0.7454\n",
            "Confusion Matrix:\n",
            "[[9573 2917  801  154]\n",
            " [ 207 1831  591  116]\n",
            " [  17  206  730   47]\n",
            " [   0    0    1   97]]\n"
          ]
        },
        {
          "output_type": "display_data",
          "data": {
            "text/plain": [
              "<Figure size 800x600 with 2 Axes>"
            ],
            "image/png": "[encoded data removed]"
          },
          "metadata": {}
        },
        {
          "output_type": "stream",
          "name": "stdout",
          "text": [
            "\n",
            "=== Phase 1: Prototype Pre-training ===\n"
          ]
        },
        {
          "output_type": "stream",
          "name": "stderr",
          "text": [
            "Proto-pretrain Ep1: 100%|██████████| 4322/4322 [05:41<00:00, 12.67it/s]\n"
          ]
        },
        {
          "output_type": "stream",
          "name": "stdout",
          "text": [
            "Ep1 Proto Loss=1.1100\n"
          ]
        },
        {
          "output_type": "stream",
          "name": "stderr",
          "text": [
            "Proto-pretrain Ep2: 100%|██████████| 4322/4322 [05:38<00:00, 12.78it/s]\n"
          ]
        },
        {
          "output_type": "stream",
          "name": "stdout",
          "text": [
            "Ep2 Proto Loss=1.0335\n"
          ]
        },
        {
          "output_type": "stream",
          "name": "stderr",
          "text": [
            "Proto-pretrain Ep3: 100%|██████████| 4322/4322 [05:37<00:00, 12.80it/s]\n"
          ]
        },
        {
          "output_type": "stream",
          "name": "stdout",
          "text": [
            "Ep3 Proto Loss=0.9967\n"
          ]
        },
        {
          "output_type": "stream",
          "name": "stderr",
          "text": [
            "Proto-pretrain Ep4: 100%|██████████| 4322/4322 [05:38<00:00, 12.77it/s]\n"
          ]
        },
        {
          "output_type": "stream",
          "name": "stdout",
          "text": [
            "Ep4 Proto Loss=0.9705\n"
          ]
        },
        {
          "output_type": "stream",
          "name": "stderr",
          "text": [
            "Proto-pretrain Ep5: 100%|██████████| 4322/4322 [05:38<00:00, 12.78it/s]\n"
          ]
        },
        {
          "output_type": "stream",
          "name": "stdout",
          "text": [
            "Ep5 Proto Loss=0.9505\n"
          ]
        },
        {
          "output_type": "stream",
          "name": "stderr",
          "text": [
            "Evaluating: 100%|██████████| 1081/1081 [00:57<00:00, 18.79it/s]\n"
          ]
        },
        {
          "output_type": "stream",
          "name": "stdout",
          "text": [
            "Validation Accuracy: 0.5842\n",
            "Validation F1 Score: 0.6559\n",
            "Confusion Matrix:\n",
            "[[8567  627 4251    0]\n",
            " [ 248  545 1951    1]\n",
            " [  10    8  982    0]\n",
            " [  11   56   26    5]]\n"
          ]
        },
        {
          "output_type": "display_data",
          "data": {
            "text/plain": [
              "<Figure size 800x600 with 2 Axes>"
            ],
            "image/png": "[encoded data removed]"
          },
          "metadata": {}
        },
        {
          "output_type": "stream",
          "name": "stdout",
          "text": [
            "\n",
            "=== Phase 2: MIL-head Training ===\n"
          ]
        },
        {
          "output_type": "stream",
          "name": "stderr",
          "text": [
            "MIL-head Ep1: 100%|██████████| 4322/4322 [04:44<00:00, 15.20it/s]\n"
          ]
        },
        {
          "output_type": "stream",
          "name": "stdout",
          "text": [
            "Ep1 MIL-head F1=0.6950\n"
          ]
        },
        {
          "output_type": "stream",
          "name": "stderr",
          "text": [
            "MIL-head Ep2: 100%|██████████| 4322/4322 [04:40<00:00, 15.39it/s]\n"
          ]
        },
        {
          "output_type": "stream",
          "name": "stdout",
          "text": [
            "Ep2 MIL-head F1=0.7396\n"
          ]
        },
        {
          "output_type": "stream",
          "name": "stderr",
          "text": [
            "MIL-head Ep3: 100%|██████████| 4322/4322 [04:46<00:00, 15.10it/s]\n"
          ]
        },
        {
          "output_type": "stream",
          "name": "stdout",
          "text": [
            "Ep3 MIL-head F1=0.7510\n"
          ]
        },
        {
          "output_type": "stream",
          "name": "stderr",
          "text": [
            "MIL-head Ep4: 100%|██████████| 4322/4322 [04:44<00:00, 15.19it/s]\n"
          ]
        },
        {
          "output_type": "stream",
          "name": "stdout",
          "text": [
            "Ep4 MIL-head F1=0.7560\n"
          ]
        },
        {
          "output_type": "stream",
          "name": "stderr",
          "text": [
            "MIL-head Ep5: 100%|██████████| 4322/4322 [04:43<00:00, 15.24it/s]\n"
          ]
        },
        {
          "output_type": "stream",
          "name": "stdout",
          "text": [
            "Ep5 MIL-head F1=0.7601\n"
          ]
        },
        {
          "output_type": "stream",
          "name": "stderr",
          "text": [
            "Evaluating: 100%|██████████| 1081/1081 [00:57<00:00, 18.78it/s]\n"
          ]
        },
        {
          "output_type": "stream",
          "name": "stdout",
          "text": [
            "Validation Accuracy: 0.7608\n",
            "Validation F1 Score: 0.7862\n",
            "Confusion Matrix:\n",
            "[[10513  2085   749    98]\n",
            " [  376  1724   565    80]\n",
            " [   22   140   820    18]\n",
            " [    0     2     1    95]]\n"
          ]
        },
        {
          "output_type": "display_data",
          "data": {
            "text/plain": [
              "<Figure size 800x600 with 2 Axes>"
            ],
            "image/png": "[encoded data removed]"
          },
          "metadata": {}
        },
        {
          "output_type": "stream",
          "name": "stdout",
          "text": [
            "\n",
            "=== Phase 3: End-to-End Fine-tuning ===\n"
          ]
        },
        {
          "output_type": "stream",
          "name": "stderr",
          "text": [
            "FT Ep1: 100%|██████████| 4322/4322 [05:41<00:00, 12.64it/s]\n"
          ]
        },
        {
          "output_type": "stream",
          "name": "stdout",
          "text": [
            "Ep1 FT F1=0.7904\n"
          ]
        },
        {
          "output_type": "stream",
          "name": "stderr",
          "text": [
            "FT Ep2: 100%|██████████| 4322/4322 [05:42<00:00, 12.60it/s]\n"
          ]
        },
        {
          "output_type": "stream",
          "name": "stdout",
          "text": [
            "Ep2 FT F1=0.8037\n"
          ]
        },
        {
          "output_type": "stream",
          "name": "stderr",
          "text": [
            "FT Ep3: 100%|██████████| 4322/4322 [05:46<00:00, 12.48it/s]\n"
          ]
        },
        {
          "output_type": "stream",
          "name": "stdout",
          "text": [
            "Ep3 FT F1=0.8077\n"
          ]
        },
        {
          "output_type": "stream",
          "name": "stderr",
          "text": [
            "FT Ep4:  17%|█▋        | 717/4322 [00:57<05:12, 11.53it/s]"
          ]
        }
      ]
    }
  ]
}