{
  "cells": [
    {
      "cell_type": "markdown",
      "metadata": {
        "id": "view-in-github",
        "colab_type": "text"
      },
      "source": [
        "<a href=\"https://colab.research.google.com/github/tousifo/ml_notebooks/blob/main/MedMNIST_QNN.ipynb\" target=\"_parent\"><img src=\"https://colab.research.google.com/assets/colab-badge.svg\" alt=\"Open In Colab\"/></a>"
      ]
    },
    {
      "cell_type": "code",
      "execution_count": 1,
      "metadata": {
        "colab": {
          "base_uri": "https://localhost:8080/"
        },
        "id": "BToV6a-J5of3",
        "outputId": "191bf169-ca9f-4744-f6de-44d477f03636"
      },
      "outputs": [
        {
          "output_type": "stream",
          "name": "stdout",
          "text": [
            "\u001b[?25l   \u001b[90m━━━━━━━━━━━━━━━━━━━━━━━━━━━━━━━━━━━━━━━━\u001b[0m \u001b[32m0.0/115.9 kB\u001b[0m \u001b[31m?\u001b[0m eta \u001b[36m-:--:--\u001b[0m\r\u001b[2K   \u001b[90m━━━━━━━━━━━━━━━━━━━━━━━━━━━━━━━━━━━━━━━━\u001b[0m \u001b[32m115.9/115.9 kB\u001b[0m \u001b[31m8.2 MB/s\u001b[0m eta \u001b[36m0:00:00\u001b[0m\n",
            "\u001b[?25hUsing device: cpu\n",
            "\n",
            "--- Loading Datasets (with Augmentations) ---\n"
          ]
        },
        {
          "output_type": "stream",
          "name": "stderr",
          "text": [
            "100%|██████████| 206M/206M [00:25<00:00, 8.13MB/s]\n"
          ]
        },
        {
          "output_type": "stream",
          "name": "stdout",
          "text": [
            "PathMNIST: train=89996, val=10004, test=7180, classes=9, channels=3\n"
          ]
        },
        {
          "output_type": "stream",
          "name": "stderr",
          "text": [
            "100%|██████████| 19.7M/19.7M [00:01<00:00, 13.4MB/s]\n"
          ]
        },
        {
          "output_type": "stream",
          "name": "stdout",
          "text": [
            "DermaMNIST: train=7007, val=1003, test=2005, classes=7, channels=3\n"
          ]
        },
        {
          "output_type": "stream",
          "name": "stderr",
          "text": [
            "100%|██████████| 35.5M/35.5M [00:02<00:00, 17.5MB/s]\n"
          ]
        },
        {
          "output_type": "stream",
          "name": "stdout",
          "text": [
            "BloodMNIST: train=11959, val=1712, test=3421, classes=8, channels=3\n",
            "\n",
            "All datasets with advanced augmentations are ready.\n",
            "\n"
          ]
        }
      ],
      "source": [
        "# Snippet 1 (Third User Correction): Data Pipeline with Augmentations\n",
        "\n",
        "# --- Install ---\n",
        "!pip install medmnist --quiet\n",
        "\n",
        "import torch\n",
        "from torchvision import transforms\n",
        "from torch.utils.data import DataLoader\n",
        "import medmnist\n",
        "\n",
        "# Device\n",
        "device = torch.device(\"cuda\" if torch.cuda.is_available() else \"cpu\")\n",
        "print(f\"Using device: {device}\")\n",
        "\n",
        "# --- Histopathology-Friendly Augmentations ---\n",
        "aug_train = transforms.Compose([\n",
        "    transforms.RandomHorizontalFlip(p=0.5),\n",
        "    transforms.RandomVerticalFlip(p=0.5),\n",
        "    transforms.RandomRotation(10),\n",
        "    transforms.ColorJitter(brightness=0.1, contrast=0.1, saturation=0.1, hue=0.03),\n",
        "    transforms.ToTensor(),\n",
        "    transforms.Normalize([0.5,0.5,0.5],[0.5,0.5,0.5]),\n",
        "])\n",
        "\n",
        "eval_tfm = transforms.Compose([\n",
        "    transforms.ToTensor(),\n",
        "    transforms.Normalize([0.5,0.5,0.5],[0.5,0.5,0.5]),\n",
        "])\n",
        "\n",
        "# --- Data Loading ---\n",
        "DATASET_NAMES = ['PathMNIST', 'DermaMNIST', 'BloodMNIST']\n",
        "datasets, dataloaders = {}, {}\n",
        "print(\"\\n--- Loading Datasets (with Augmentations) ---\")\n",
        "\n",
        "for name in DATASET_NAMES:\n",
        "    info = medmnist.INFO[name.lower()]\n",
        "    DataClass = getattr(medmnist, info['python_class'])\n",
        "    n_channels = info.get('n_channels', 3)\n",
        "\n",
        "    # Use the appropriate transform for each split\n",
        "    train_ds = DataClass(split='train', transform=aug_train, download=True)\n",
        "    val_ds   = DataClass(split='val',   transform=eval_tfm, download=True)\n",
        "    test_ds  = DataClass(split='test',  transform=eval_tfm, download=True)\n",
        "\n",
        "    datasets[name] = {'train': train_ds, 'val': val_ds, 'test': test_ds}\n",
        "\n",
        "    dataloaders[name] = {\n",
        "        'train': DataLoader(train_ds, batch_size=64, shuffle=True,  num_workers=2, pin_memory=True),\n",
        "        'val':   DataLoader(val_ds,   batch_size=128, shuffle=False, num_workers=2, pin_memory=True),\n",
        "        'test':  DataLoader(test_ds,  batch_size=128, shuffle=False, num_workers=2, pin_memory=True),\n",
        "    }\n",
        "\n",
        "    print(f\"{name}: train={len(train_ds)}, val={len(val_ds)}, test={len(test_ds)}, \"\n",
        "          f\"classes={len(train_ds.info['label'])}, channels={n_channels}\")\n",
        "\n",
        "print(\"\\nAll datasets with advanced augmentations are ready.\\n\")"
      ]
    },
    {
      "cell_type": "code",
      "execution_count": 2,
      "metadata": {
        "colab": {
          "base_uri": "https://localhost:8080/"
        },
        "id": "Q9abWN0T8FwR",
        "outputId": "6579142e-9823-4d01-f398-5df73c70e30f"
      },
      "outputs": [
        {
          "output_type": "stream",
          "name": "stdout",
          "text": [
            "\u001b[2K     \u001b[90m━━━━━━━━━━━━━━━━━━━━━━━━━━━━━━━━━━━━━━━━\u001b[0m \u001b[32m57.1/57.1 kB\u001b[0m \u001b[31m2.2 MB/s\u001b[0m eta \u001b[36m0:00:00\u001b[0m\n",
            "\u001b[2K   \u001b[90m━━━━━━━━━━━━━━━━━━━━━━━━━━━━━━━━━━━━━━━━\u001b[0m \u001b[32m4.8/4.8 MB\u001b[0m \u001b[31m38.4 MB/s\u001b[0m eta \u001b[36m0:00:00\u001b[0m\n",
            "\u001b[2K   \u001b[90m━━━━━━━━━━━━━━━━━━━━━━━━━━━━━━━━━━━━━━━━\u001b[0m \u001b[32m930.8/930.8 kB\u001b[0m \u001b[31m34.3 MB/s\u001b[0m eta \u001b[36m0:00:00\u001b[0m\n",
            "\u001b[2K   \u001b[90m━━━━━━━━━━━━━━━━━━━━━━━━━━━━━━━━━━━━━━━━\u001b[0m \u001b[32m2.6/2.6 MB\u001b[0m \u001b[31m62.9 MB/s\u001b[0m eta \u001b[36m0:00:00\u001b[0m\n",
            "\u001b[2K   \u001b[90m━━━━━━━━━━━━━━━━━━━━━━━━━━━━━━━━━━━━━━━━\u001b[0m \u001b[32m2.2/2.2 MB\u001b[0m \u001b[31m53.6 MB/s\u001b[0m eta \u001b[36m0:00:00\u001b[0m\n",
            "\u001b[2K   \u001b[90m━━━━━━━━━━━━━━━━━━━━━━━━━━━━━━━━━━━━━━━━\u001b[0m \u001b[32m167.9/167.9 kB\u001b[0m \u001b[31m8.3 MB/s\u001b[0m eta \u001b[36m0:00:00\u001b[0m\n",
            "\u001b[2K   \u001b[90m━━━━━━━━━━━━━━━━━━━━━━━━━━━━━━━━━━━━━━━━\u001b[0m \u001b[32m8.6/8.6 MB\u001b[0m \u001b[31m50.8 MB/s\u001b[0m eta \u001b[36m0:00:00\u001b[0m\n",
            "\u001b[?25hTrainable QTF model ready (re-uploading + dual-basis readout).\n"
          ]
        }
      ],
      "source": [
        "# Snippet 2 (Third User Correction): The Trainable Quantum Model\n",
        "\n",
        "# --- Install ---\n",
        "!pip install pennylane --quiet\n",
        "\n",
        "import torch\n",
        "import torch.nn as nn\n",
        "import pennylane as qml\n",
        "\n",
        "# --- Trainable QLayer with data re-uploading & dual-basis readout ---\n",
        "n_qubits = 8\n",
        "layers = 2  # re-uploading depth\n",
        "dev = qml.device(\"default.qubit\", wires=n_qubits)\n",
        "\n",
        "@qml.qnode(dev, interface='torch', diff_method='backprop')\n",
        "def trainable_qnode(inputs, theta_rz, theta_ry):\n",
        "    # inputs: (B, 8) -- TorchLayer handles batching\n",
        "    # First embedding\n",
        "    qml.AngleEmbedding(inputs, wires=range(n_qubits), rotation='Y')\n",
        "\n",
        "    for l in range(layers):\n",
        "        # Variational block\n",
        "        for i in range(n_qubits):\n",
        "            qml.RZ(theta_rz[l, i], wires=i)\n",
        "            qml.RY(theta_ry[l, i], wires=i)\n",
        "        # Ring entanglement\n",
        "        for i in range(n_qubits - 1):\n",
        "            qml.CNOT(wires=[i, i+1])\n",
        "        qml.CNOT(wires=[n_qubits-1, 0])\n",
        "\n",
        "        # Re-upload the same 8 features (gives richer gradients)\n",
        "        qml.AngleEmbedding(inputs, wires=range(n_qubits), rotation='Y')\n",
        "\n",
        "    # Read out in two Pauli bases -> 16 quantum features\n",
        "    z_feats = [qml.expval(qml.PauliZ(i)) for i in range(n_qubits)]\n",
        "    x_feats = [qml.expval(qml.PauliX(i)) for i in range(n_qubits)]\n",
        "    return z_feats + x_feats\n",
        "\n",
        "weight_shapes = {\n",
        "    \"theta_rz\": (layers, n_qubits),\n",
        "    \"theta_ry\": (layers, n_qubits),\n",
        "}\n",
        "\n",
        "class QTFClassifier(nn.Module):\n",
        "    def __init__(self, q_feature_map, weight_shapes, n_classes=9, in_channels=3):\n",
        "        super().__init__()\n",
        "        self.feature_extractor = nn.Sequential(\n",
        "            nn.Conv2d(in_channels, 16, 3, padding=1),\n",
        "            nn.BatchNorm2d(16),\n",
        "            nn.ReLU(),\n",
        "            nn.MaxPool2d(2),\n",
        "\n",
        "            nn.Conv2d(16, 32, 3, padding=1),\n",
        "            nn.BatchNorm2d(32),\n",
        "            nn.ReLU(),\n",
        "            nn.MaxPool2d(2),\n",
        "\n",
        "            nn.Flatten(),\n",
        "            nn.Linear(32 * 7 * 7, 128),\n",
        "            nn.ReLU(),\n",
        "            nn.Dropout(0.2),\n",
        "            nn.Linear(128, n_qubits)   # -> 8 features\n",
        "        )\n",
        "\n",
        "        # Trainable quantum layer (outputs 16-dim: Z and X on 8 qubits)\n",
        "        self.q_layer = qml.qnn.TorchLayer(q_feature_map, weight_shapes=weight_shapes)\n",
        "\n",
        "        # Final head now expects 16 inputs\n",
        "        self.classifier = nn.Sequential(\n",
        "            nn.Linear(2 * n_qubits, 64),\n",
        "            nn.ReLU(),\n",
        "            nn.Dropout(0.2),\n",
        "            nn.Linear(64, n_classes)\n",
        "        )\n",
        "\n",
        "    def forward(self, x):\n",
        "        feats = self.feature_extractor(x)         # (B, 8), float32\n",
        "        qfeats = self.q_layer(feats)              # (B, 16)\n",
        "        qfeats = qfeats.to(feats.dtype)           # keep dtypes consistent\n",
        "        logits = self.classifier(qfeats)\n",
        "        return logits\n",
        "\n",
        "print(\"Trainable QTF model ready (re-uploading + dual-basis readout).\")"
      ]
    },
    {
      "cell_type": "code",
      "execution_count": 3,
      "metadata": {
        "colab": {
          "base_uri": "https://localhost:8080/"
        },
        "id": "VDpihpCt9IPQ",
        "outputId": "e819c9aa-89e7-419f-b5c1-6acab9dccf48"
      },
      "outputs": [
        {
          "output_type": "stream",
          "name": "stdout",
          "text": [
            "Using CrossEntropyLoss with label smoothing.\n",
            "\n",
            "Starting final training run on PathMNIST for 25 epochs...\n"
          ]
        },
        {
          "output_type": "stream",
          "name": "stderr",
          "text": [
            "\rEpoch 1/25 [train]:   0%|          | 0/1407 [00:00<?, ?it/s]/usr/local/lib/python3.12/dist-packages/torch/utils/data/dataloader.py:666: UserWarning: 'pin_memory' argument is set as true but no accelerator is found, then device pinned memory won't be used.\n",
            "  warnings.warn(warn_msg)\n",
            "Epoch 1/25 [train]: 100%|██████████| 1407/1407 [05:26<00:00,  4.31it/s]\n",
            "Epoch 1/25 [val]: 100%|██████████| 79/79 [00:12<00:00,  6.45it/s]\n"
          ]
        },
        {
          "output_type": "stream",
          "name": "stdout",
          "text": [
            "Epoch 1: train_loss=1.7399 train_acc=0.3606 val_loss=1.1961 val_acc=0.5810\n"
          ]
        },
        {
          "output_type": "stream",
          "name": "stderr",
          "text": [
            "Epoch 2/25 [train]: 100%|██████████| 1407/1407 [05:35<00:00,  4.19it/s]\n",
            "Epoch 2/25 [val]: 100%|██████████| 79/79 [00:14<00:00,  5.39it/s]\n"
          ]
        },
        {
          "output_type": "stream",
          "name": "stdout",
          "text": [
            "Epoch 2: train_loss=1.2056 train_acc=0.6029 val_loss=1.3102 val_acc=0.5696\n"
          ]
        },
        {
          "output_type": "stream",
          "name": "stderr",
          "text": [
            "Epoch 3/25 [train]: 100%|██████████| 1407/1407 [05:53<00:00,  3.98it/s]\n",
            "Epoch 3/25 [val]: 100%|██████████| 79/79 [00:16<00:00,  4.91it/s]\n"
          ]
        },
        {
          "output_type": "stream",
          "name": "stdout",
          "text": [
            "Epoch 3: train_loss=1.0478 train_acc=0.6743 val_loss=0.8982 val_acc=0.7365\n"
          ]
        },
        {
          "output_type": "stream",
          "name": "stderr",
          "text": [
            "Epoch 4/25 [train]: 100%|██████████| 1407/1407 [06:01<00:00,  3.89it/s]\n",
            "Epoch 4/25 [val]: 100%|██████████| 79/79 [00:16<00:00,  4.79it/s]\n"
          ]
        },
        {
          "output_type": "stream",
          "name": "stdout",
          "text": [
            "Epoch 4: train_loss=0.9541 train_acc=0.7206 val_loss=0.9753 val_acc=0.7011\n"
          ]
        },
        {
          "output_type": "stream",
          "name": "stderr",
          "text": [
            "Epoch 5/25 [train]: 100%|██████████| 1407/1407 [05:57<00:00,  3.94it/s]\n",
            "Epoch 5/25 [val]: 100%|██████████| 79/79 [00:15<00:00,  5.01it/s]\n"
          ]
        },
        {
          "output_type": "stream",
          "name": "stdout",
          "text": [
            "Epoch 5: train_loss=0.8863 train_acc=0.7528 val_loss=1.1975 val_acc=0.6162\n"
          ]
        },
        {
          "output_type": "stream",
          "name": "stderr",
          "text": [
            "Epoch 6/25 [train]: 100%|██████████| 1407/1407 [05:56<00:00,  3.95it/s]\n",
            "Epoch 6/25 [val]: 100%|██████████| 79/79 [00:15<00:00,  5.02it/s]\n"
          ]
        },
        {
          "output_type": "stream",
          "name": "stdout",
          "text": [
            "Epoch 6: train_loss=0.8390 train_acc=0.7731 val_loss=0.9702 val_acc=0.6978\n"
          ]
        },
        {
          "output_type": "stream",
          "name": "stderr",
          "text": [
            "Epoch 7/25 [train]: 100%|██████████| 1407/1407 [05:49<00:00,  4.03it/s]\n",
            "Epoch 7/25 [val]: 100%|██████████| 79/79 [00:15<00:00,  4.94it/s]\n"
          ]
        },
        {
          "output_type": "stream",
          "name": "stdout",
          "text": [
            "Epoch 7: train_loss=0.8061 train_acc=0.7908 val_loss=0.8268 val_acc=0.7659\n"
          ]
        },
        {
          "output_type": "stream",
          "name": "stderr",
          "text": [
            "Epoch 8/25 [train]: 100%|██████████| 1407/1407 [05:51<00:00,  4.00it/s]\n",
            "Epoch 8/25 [val]: 100%|██████████| 79/79 [00:14<00:00,  5.36it/s]\n"
          ]
        },
        {
          "output_type": "stream",
          "name": "stdout",
          "text": [
            "Epoch 8: train_loss=0.7802 train_acc=0.8017 val_loss=0.6278 val_acc=0.8586\n"
          ]
        },
        {
          "output_type": "stream",
          "name": "stderr",
          "text": [
            "Epoch 9/25 [train]: 100%|██████████| 1407/1407 [05:51<00:00,  4.00it/s]\n",
            "Epoch 9/25 [val]: 100%|██████████| 79/79 [00:14<00:00,  5.45it/s]\n"
          ]
        },
        {
          "output_type": "stream",
          "name": "stdout",
          "text": [
            "Epoch 9: train_loss=0.7444 train_acc=0.8179 val_loss=0.6545 val_acc=0.8501\n"
          ]
        },
        {
          "output_type": "stream",
          "name": "stderr",
          "text": [
            "Epoch 10/25 [train]: 100%|██████████| 1407/1407 [05:45<00:00,  4.07it/s]\n",
            "Epoch 10/25 [val]: 100%|██████████| 79/79 [00:15<00:00,  4.96it/s]\n"
          ]
        },
        {
          "output_type": "stream",
          "name": "stdout",
          "text": [
            "Epoch 10: train_loss=0.7218 train_acc=0.8279 val_loss=0.6911 val_acc=0.8277\n"
          ]
        },
        {
          "output_type": "stream",
          "name": "stderr",
          "text": [
            "Epoch 11/25 [train]: 100%|██████████| 1407/1407 [05:43<00:00,  4.10it/s]\n",
            "Epoch 11/25 [val]: 100%|██████████| 79/79 [00:14<00:00,  5.41it/s]\n"
          ]
        },
        {
          "output_type": "stream",
          "name": "stdout",
          "text": [
            "Epoch 11: train_loss=0.7015 train_acc=0.8369 val_loss=0.6257 val_acc=0.8640\n"
          ]
        },
        {
          "output_type": "stream",
          "name": "stderr",
          "text": [
            "Epoch 12/25 [train]: 100%|██████████| 1407/1407 [05:43<00:00,  4.09it/s]\n",
            "Epoch 12/25 [val]: 100%|██████████| 79/79 [00:14<00:00,  5.57it/s]\n"
          ]
        },
        {
          "output_type": "stream",
          "name": "stdout",
          "text": [
            "Epoch 12: train_loss=0.6803 train_acc=0.8459 val_loss=0.6128 val_acc=0.8693\n"
          ]
        },
        {
          "output_type": "stream",
          "name": "stderr",
          "text": [
            "Epoch 13/25 [train]: 100%|██████████| 1407/1407 [05:42<00:00,  4.11it/s]\n",
            "Epoch 13/25 [val]: 100%|██████████| 79/79 [00:14<00:00,  5.54it/s]\n"
          ]
        },
        {
          "output_type": "stream",
          "name": "stdout",
          "text": [
            "Epoch 13: train_loss=0.6614 train_acc=0.8540 val_loss=0.8272 val_acc=0.7891\n"
          ]
        },
        {
          "output_type": "stream",
          "name": "stderr",
          "text": [
            "Epoch 14/25 [train]: 100%|██████████| 1407/1407 [05:46<00:00,  4.06it/s]\n",
            "Epoch 14/25 [val]: 100%|██████████| 79/79 [00:14<00:00,  5.45it/s]\n"
          ]
        },
        {
          "output_type": "stream",
          "name": "stdout",
          "text": [
            "Epoch 14: train_loss=0.6472 train_acc=0.8605 val_loss=0.6129 val_acc=0.8680\n"
          ]
        },
        {
          "output_type": "stream",
          "name": "stderr",
          "text": [
            "Epoch 15/25 [train]: 100%|██████████| 1407/1407 [05:52<00:00,  3.99it/s]\n",
            "Epoch 15/25 [val]: 100%|██████████| 79/79 [00:14<00:00,  5.29it/s]\n"
          ]
        },
        {
          "output_type": "stream",
          "name": "stdout",
          "text": [
            "Epoch 15: train_loss=0.6304 train_acc=0.8660 val_loss=0.5246 val_acc=0.9031\n"
          ]
        },
        {
          "output_type": "stream",
          "name": "stderr",
          "text": [
            "Epoch 16/25 [train]: 100%|██████████| 1407/1407 [06:02<00:00,  3.89it/s]\n",
            "Epoch 16/25 [val]: 100%|██████████| 79/79 [00:15<00:00,  5.21it/s]\n"
          ]
        },
        {
          "output_type": "stream",
          "name": "stdout",
          "text": [
            "Epoch 16: train_loss=0.6176 train_acc=0.8719 val_loss=0.6211 val_acc=0.8629\n"
          ]
        },
        {
          "output_type": "stream",
          "name": "stderr",
          "text": [
            "Epoch 17/25 [train]: 100%|██████████| 1407/1407 [05:56<00:00,  3.94it/s]\n",
            "Epoch 17/25 [val]: 100%|██████████| 79/79 [00:15<00:00,  4.99it/s]\n"
          ]
        },
        {
          "output_type": "stream",
          "name": "stdout",
          "text": [
            "Epoch 17: train_loss=0.6063 train_acc=0.8771 val_loss=0.5501 val_acc=0.8938\n"
          ]
        },
        {
          "output_type": "stream",
          "name": "stderr",
          "text": [
            "Epoch 18/25 [train]: 100%|██████████| 1407/1407 [06:05<00:00,  3.85it/s]\n",
            "Epoch 18/25 [val]: 100%|██████████| 79/79 [00:15<00:00,  5.01it/s]\n"
          ]
        },
        {
          "output_type": "stream",
          "name": "stdout",
          "text": [
            "Epoch 18: train_loss=0.5933 train_acc=0.8820 val_loss=0.5735 val_acc=0.8846\n"
          ]
        },
        {
          "output_type": "stream",
          "name": "stderr",
          "text": [
            "Epoch 19/25 [train]: 100%|██████████| 1407/1407 [06:01<00:00,  3.89it/s]\n",
            "Epoch 19/25 [val]: 100%|██████████| 79/79 [00:14<00:00,  5.31it/s]\n"
          ]
        },
        {
          "output_type": "stream",
          "name": "stdout",
          "text": [
            "Epoch 19: train_loss=0.5849 train_acc=0.8850 val_loss=0.5177 val_acc=0.9072\n"
          ]
        },
        {
          "output_type": "stream",
          "name": "stderr",
          "text": [
            "Epoch 20/25 [train]: 100%|██████████| 1407/1407 [05:48<00:00,  4.04it/s]\n",
            "Epoch 20/25 [val]: 100%|██████████| 79/79 [00:15<00:00,  4.98it/s]\n"
          ]
        },
        {
          "output_type": "stream",
          "name": "stdout",
          "text": [
            "Epoch 20: train_loss=0.5746 train_acc=0.8902 val_loss=0.5269 val_acc=0.9060\n"
          ]
        },
        {
          "output_type": "stream",
          "name": "stderr",
          "text": [
            "Epoch 21/25 [train]: 100%|██████████| 1407/1407 [05:55<00:00,  3.95it/s]\n",
            "Epoch 21/25 [val]: 100%|██████████| 79/79 [00:15<00:00,  5.02it/s]\n"
          ]
        },
        {
          "output_type": "stream",
          "name": "stdout",
          "text": [
            "Epoch 21: train_loss=0.5632 train_acc=0.8948 val_loss=0.4919 val_acc=0.9192\n"
          ]
        },
        {
          "output_type": "stream",
          "name": "stderr",
          "text": [
            "Epoch 22/25 [train]: 100%|██████████| 1407/1407 [05:51<00:00,  4.00it/s]\n",
            "Epoch 22/25 [val]: 100%|██████████| 79/79 [00:15<00:00,  5.09it/s]\n"
          ]
        },
        {
          "output_type": "stream",
          "name": "stdout",
          "text": [
            "Epoch 22: train_loss=0.5590 train_acc=0.8966 val_loss=0.5112 val_acc=0.9137\n"
          ]
        },
        {
          "output_type": "stream",
          "name": "stderr",
          "text": [
            "Epoch 23/25 [train]: 100%|██████████| 1407/1407 [05:55<00:00,  3.96it/s]\n",
            "Epoch 23/25 [val]: 100%|██████████| 79/79 [00:15<00:00,  5.25it/s]\n"
          ]
        },
        {
          "output_type": "stream",
          "name": "stdout",
          "text": [
            "Epoch 23: train_loss=0.5520 train_acc=0.8991 val_loss=0.4992 val_acc=0.9151\n"
          ]
        },
        {
          "output_type": "stream",
          "name": "stderr",
          "text": [
            "Epoch 24/25 [train]: 100%|██████████| 1407/1407 [05:56<00:00,  3.95it/s]\n",
            "Epoch 24/25 [val]: 100%|██████████| 79/79 [00:15<00:00,  5.09it/s]\n"
          ]
        },
        {
          "output_type": "stream",
          "name": "stdout",
          "text": [
            "Epoch 24: train_loss=0.5488 train_acc=0.9006 val_loss=0.5054 val_acc=0.9145\n"
          ]
        },
        {
          "output_type": "stream",
          "name": "stderr",
          "text": [
            "Epoch 25/25 [train]: 100%|██████████| 1407/1407 [06:00<00:00,  3.90it/s]\n",
            "Epoch 25/25 [val]: 100%|██████████| 79/79 [00:14<00:00,  5.28it/s]"
          ]
        },
        {
          "output_type": "stream",
          "name": "stdout",
          "text": [
            "Epoch 25: train_loss=0.5460 train_acc=0.9010 val_loss=0.4935 val_acc=0.9196\n",
            "\n",
            "Training complete. Best validation accuracy: 0.9196\n",
            "Loaded best model weights. Ready to begin Phase 2: Explainable AI.\n"
          ]
        },
        {
          "output_type": "stream",
          "name": "stderr",
          "text": [
            "\n"
          ]
        }
      ],
      "source": [
        "# Snippet 3 (Third User Correction): The Advanced Training Loop\n",
        "\n",
        "from tqdm import tqdm\n",
        "import torch\n",
        "import torch.nn as nn\n",
        "from torch.optim.lr_scheduler import CosineAnnealingLR\n",
        "\n",
        "# --- Setup ---\n",
        "dataset_name = 'PathMNIST'\n",
        "info = medmnist.INFO[dataset_name.lower()]\n",
        "in_channels = info.get('n_channels', 3)\n",
        "n_classes = len(info['label'])\n",
        "\n",
        "# --- Build Model ---\n",
        "# This instantiates our final, trainable QTFClassifier\n",
        "model = QTFClassifier(q_feature_map=trainable_qnode,\n",
        "                      weight_shapes=weight_shapes,\n",
        "                      n_classes=n_classes,\n",
        "                      in_channels=in_channels).to(device)\n",
        "\n",
        "# --- Optimizer, Loss, and Scheduler ---\n",
        "optimizer = torch.optim.Adam(model.parameters(), lr=2e-3, weight_decay=1e-4)\n",
        "\n",
        "# Label smoothing (with a fallback for older torch versions)\n",
        "try:\n",
        "    loss_fn = nn.CrossEntropyLoss(label_smoothing=0.05)\n",
        "    print(\"Using CrossEntropyLoss with label smoothing.\")\n",
        "except TypeError:\n",
        "    loss_fn = nn.CrossEntropyLoss()\n",
        "    print(\"Using standard CrossEntropyLoss (label smoothing not supported).\")\n",
        "\n",
        "# Cosine annealing scheduler for robust convergence\n",
        "scheduler = CosineAnnealingLR(optimizer, T_max=25, eta_min=1e-5)\n",
        "\n",
        "# --- DataLoaders ---\n",
        "train_loader = dataloaders[dataset_name]['train']\n",
        "val_loader = dataloaders[dataset_name]['val']\n",
        "\n",
        "def labels_to_indices(y):\n",
        "    if y.ndim == 2 and y.size(1) > 1:\n",
        "        return y.argmax(dim=1)\n",
        "    return y.view(-1).long()\n",
        "\n",
        "# --- Full Training & Validation Loop ---\n",
        "num_epochs = 25\n",
        "best_val = 0.0\n",
        "print(f\"\\nStarting final training run on {dataset_name} for {num_epochs} epochs...\")\n",
        "\n",
        "for epoch in range(1, num_epochs + 1):\n",
        "    # ---- Train ----\n",
        "    model.train()\n",
        "    train_loss, train_correct, train_total = 0, 0, 0\n",
        "    for x, y in tqdm(train_loader, desc=f\"Epoch {epoch}/{num_epochs} [train]\"):\n",
        "        x = x.to(device, non_blocking=True)\n",
        "        y = labels_to_indices(y).to(device, non_blocking=True)\n",
        "\n",
        "        optimizer.zero_grad()\n",
        "        logits = model(x)\n",
        "        loss = loss_fn(logits, y)\n",
        "        loss.backward()\n",
        "        torch.nn.utils.clip_grad_norm_(model.parameters(), 1.0)\n",
        "        optimizer.step()\n",
        "\n",
        "        train_loss += loss.item() * x.size(0)\n",
        "        train_correct += (logits.argmax(1) == y).sum().item()\n",
        "        train_total += x.size(0)\n",
        "    tr_loss = train_loss / train_total\n",
        "    tr_acc = train_correct / train_total\n",
        "\n",
        "    # ---- Validate ----\n",
        "    model.eval()\n",
        "    val_correct, val_total, val_loss = 0, 0, 0\n",
        "    with torch.no_grad():\n",
        "        for x, y in tqdm(val_loader, desc=f\"Epoch {epoch}/{num_epochs} [val]\"):\n",
        "            x = x.to(device, non_blocking=True)\n",
        "            y = labels_to_indices(y).to(device, non_blocking=True)\n",
        "            logits = model(x)\n",
        "            loss = loss_fn(logits, y)\n",
        "            val_loss += loss.item() * x.size(0)\n",
        "            val_correct += (logits.argmax(1) == y).sum().item()\n",
        "            val_total += x.size(0)\n",
        "    v_loss = val_loss / val_total\n",
        "    v_acc = val_correct / val_total\n",
        "\n",
        "    print(f\"Epoch {epoch}: train_loss={tr_loss:.4f} train_acc={tr_acc:.4f} \"\n",
        "          f\"val_loss={v_loss:.4f} val_acc={v_acc:.4f}\")\n",
        "\n",
        "    # Step the scheduler\n",
        "    scheduler.step()\n",
        "\n",
        "    # Save the best model\n",
        "    if v_acc > best_val:\n",
        "        best_val = v_acc\n",
        "        best_state = {k: v.cpu() for k, v in model.state_dict().items()}\n",
        "\n",
        "print(f\"\\nTraining complete. Best validation accuracy: {best_val:.4f}\")\n",
        "\n",
        "# Load the best performing model state for our XAI phase\n",
        "if 'best_state' in locals():\n",
        "    model.load_state_dict(best_state)\n",
        "    print(\"Loaded best model weights. Ready to begin Phase 2: Explainable AI.\")"
      ]
    },
    {
      "cell_type": "code",
      "source": [
        "import torch\n",
        "import matplotlib.pyplot as plt\n",
        "import numpy as np\n",
        "\n",
        "# Ensure the model is in evaluation mode and on the correct device\n",
        "model.eval()\n",
        "model.to(device)\n",
        "\n",
        "# --- 1. Select a Sample from the Test Set ---\n",
        "dataset_name = 'PathMNIST'\n",
        "test_loader = dataloaders[dataset_name]['test']\n",
        "info = medmnist.INFO[dataset_name.lower()]\n",
        "class_names = info['label']\n",
        "\n",
        "# Let's find a correctly classified image to analyze\n",
        "found_sample = False\n",
        "while not found_sample:\n",
        "    for images, labels in test_loader:\n",
        "        image_to_test = images[0].unsqueeze(0).to(device) # Get the first image in the batch\n",
        "        true_label_idx = labels_to_indices(labels)[0].item()\n",
        "\n",
        "        # Get the model's prediction\n",
        "        with torch.no_grad():\n",
        "            logits = model(image_to_test)\n",
        "            pred_prob = torch.softmax(logits, dim=1)\n",
        "            pred_label_idx = torch.argmax(pred_prob, dim=1).item()\n",
        "\n",
        "        # Check if the prediction was correct\n",
        "        if pred_label_idx == true_label_idx:\n",
        "            found_sample = True\n",
        "            break\n",
        "\n",
        "print(\"Found a correctly classified sample.\")\n",
        "print(f\"  True Label: {true_label_idx} ({class_names[str(true_label_idx)]})\")\n",
        "print(f\"  Predicted Label: {pred_label_idx} ({class_names[str(pred_label_idx)]})\")\n",
        "print(f\"  Prediction Confidence: {pred_prob.max().item():.4f}\")\n",
        "\n",
        "\n",
        "# --- 2. Visualize the Sample Image ---\n",
        "# We need to un-normalize the image for proper visualization\n",
        "# The normalization was transforms.Normalize([0.5,0.5,0.5],[0.5,0.5,0.5])\n",
        "# So, un-normalize is: image * std + mean\n",
        "un_normalized_img = image_to_test.squeeze().cpu().numpy().transpose(1, 2, 0) # From (C, H, W) to (H, W, C)\n",
        "un_normalized_img = un_normalized_img * 0.5 + 0.5 # Un-normalize\n",
        "un_normalized_img = np.clip(un_normalized_img, 0, 1) # Clip values to be between 0 and 1\n",
        "\n",
        "plt.figure(figsize=(4, 4))\n",
        "plt.imshow(un_normalized_img)\n",
        "plt.title(f\"True: {class_names[str(true_label_idx)]}\\nPredicted: {class_names[str(pred_label_idx)]}\")\n",
        "plt.axis('off')\n",
        "plt.show()"
      ],
      "metadata": {
        "colab": {
          "base_uri": "https://localhost:8080/",
          "height": 457
        },
        "id": "rHvEWGTUKljO",
        "outputId": "12915794-cb37-40bc-9b74-a3aec19bb79d"
      },
      "execution_count": 4,
      "outputs": [
        {
          "output_type": "stream",
          "name": "stdout",
          "text": [
            "Found a correctly classified sample.\n",
            "  True Label: 8 (colorectal adenocarcinoma epithelium)\n",
            "  Predicted Label: 8 (colorectal adenocarcinoma epithelium)\n",
            "  Prediction Confidence: 0.8709\n"
          ]
        },
        {
          "output_type": "display_data",
          "data": {
            "text/plain": [
              "<Figure size 400x400 with 1 Axes>"
            ],
            "image/png": "[encoded data removed]"
          },
          "metadata": {}
        }
      ]
    },
    {
      "cell_type": "code",
      "source": [
        "# Snippet 5: Saliency Map Generation\n",
        "\n",
        "# --- 1. Enable Gradient Calculation on the Input Image ---\n",
        "# We need to clone the image tensor and set requires_grad=True\n",
        "image_to_explain = image_to_test.clone().detach().requires_grad_(True)\n",
        "\n",
        "# --- 2. Perform a Forward Pass ---\n",
        "# Get the logits from the model\n",
        "logits = model(image_to_explain)\n",
        "# The predicted label index is the same as we found in the previous step\n",
        "# pred_label_idx = torch.argmax(logits, dim=1).item() # This is 8 in our case\n",
        "\n",
        "# --- 3. Target the Score for the Predicted Class ---\n",
        "# We select the logit score corresponding to the predicted class\n",
        "score_for_predicted_class = logits[0, pred_label_idx]\n",
        "\n",
        "# --- 4. Perform a Backward Pass ---\n",
        "# Zero out any previous gradients\n",
        "model.zero_grad()\n",
        "\n",
        "# Calculate the gradients of the target score with respect to the model's inputs\n",
        "score_for_predicted_class.backward()\n",
        "\n",
        "# --- 5. Extract the Saliency Map ---\n",
        "# The gradients are now stored in the .grad attribute of our input tensor\n",
        "# We take the absolute value of the gradients\n",
        "saliency_map_raw = image_to_explain.grad.data.abs()\n",
        "\n",
        "# To get a single saliency value per pixel, we take the maximum value across the color channels\n",
        "saliency_map, _ = torch.max(saliency_map_raw, dim=1) # Squeeze the channel dimension\n",
        "saliency_map = saliency_map.squeeze().cpu().numpy()\n",
        "\n",
        "print(\"Saliency map generated successfully.\")\n",
        "print(f\"Shape of the saliency map: {saliency_map.shape}\")\n",
        "print(f\"Min saliency value: {saliency_map.min():.4f}\")\n",
        "print(f\"Max saliency value: {saliency_map.max():.4f}\")"
      ],
      "metadata": {
        "colab": {
          "base_uri": "https://localhost:8080/"
        },
        "id": "5sQhuWhTKo6n",
        "outputId": "9b18a422-dd14-4b6e-9a9b-fcf4daad951f"
      },
      "execution_count": 5,
      "outputs": [
        {
          "output_type": "stream",
          "name": "stdout",
          "text": [
            "Saliency map generated successfully.\n",
            "Shape of the saliency map: (28, 28)\n",
            "Min saliency value: 0.0052\n",
            "Max saliency value: 2.0204\n"
          ]
        }
      ]
    },
    {
      "cell_type": "code",
      "source": [
        "# Snippet 6: Visualization\n",
        "\n",
        "# --- 1. Normalize the Saliency Map for better visualization ---\n",
        "# We can apply a light blur to make the heatmap smoother\n",
        "from scipy.ndimage import gaussian_filter\n",
        "saliency_map_smoothed = gaussian_filter(saliency_map, sigma=0.5)\n",
        "\n",
        "# Normalize to the range 0-1\n",
        "saliency_map_normalized = (saliency_map_smoothed - saliency_map_smoothed.min()) / (saliency_map_smoothed.max() - saliency_map_smoothed.min())\n",
        "\n",
        "# --- 2. Plot the Original Image and the Saliency Heatmap ---\n",
        "\n",
        "# Recall the un-normalized image from Snippet 4\n",
        "# un_normalized_img = image_to_test.squeeze().cpu().numpy().transpose(1, 2, 0) * 0.5 + 0.5\n",
        "# un_normalized_img = np.clip(un_normalized_img, 0, 1)\n",
        "\n",
        "fig, axes = plt.subplots(1, 2, figsize=(10, 5))\n",
        "\n",
        "# Plot the original image\n",
        "axes[0].imshow(un_normalized_img)\n",
        "axes[0].set_title(f\"Original Image\\nTrue: {class_names[str(true_label_idx)]}\")\n",
        "axes[0].axis('off')\n",
        "\n",
        "# Plot the original image with the saliency map overlay\n",
        "axes[1].imshow(un_normalized_img)\n",
        "im = axes[1].imshow(saliency_map_normalized, cmap='viridis', alpha=0.6) # Overlay with transparency\n",
        "axes[1].set_title(f\"Saliency Heatmap\\nPredicted: {class_names[str(pred_label_idx)]}\")\n",
        "axes[1].axis('off')\n",
        "\n",
        "# Add a colorbar to indicate importance\n",
        "fig.colorbar(im, ax=axes[1], orientation='vertical', fraction=0.046, pad=0.04)\n",
        "\n",
        "plt.suptitle(\"Explainable AI (XAI) Saliency Map for QNN\", fontsize=16)\n",
        "plt.tight_layout(rect=[0, 0.03, 1, 0.95])\n",
        "plt.show()"
      ],
      "metadata": {
        "colab": {
          "base_uri": "https://localhost:8080/",
          "height": 505
        },
        "id": "85xHXfdXK6ca",
        "outputId": "c4980f12-717d-4f97-87c6-33748b89c26e"
      },
      "execution_count": 6,
      "outputs": [
        {
          "output_type": "display_data",
          "data": {
            "text/plain": [
              "<Figure size 1000x500 with 3 Axes>"
            ],
            "image/png": "[encoded data removed]"
          },
          "metadata": {}
        }
      ]
    },
    {
      "cell_type": "code",
      "source": [
        "# Snippet 7: Denoising with SmoothGrad\n",
        "\n",
        "import torch\n",
        "import numpy as np\n",
        "import matplotlib.pyplot as plt\n",
        "from scipy.ndimage import gaussian_filter\n",
        "\n",
        "def generate_smoothgrad(model, input_tensor, target_class_idx, n_samples=25, noise_std_dev=0.1):\n",
        "    \"\"\"\n",
        "    Generates a SmoothGrad saliency map by averaging gradients over noisy image samples.\n",
        "    \"\"\"\n",
        "    # Detach the input tensor to prevent graph pollution during the loop\n",
        "    input_tensor = input_tensor.detach()\n",
        "\n",
        "    # Initialize a tensor to accumulate gradients\n",
        "    smooth_grad = torch.zeros_like(input_tensor.squeeze(0))\n",
        "\n",
        "    for _ in range(n_samples):\n",
        "        # Create a noisy version of the input\n",
        "        noise = torch.randn_like(input_tensor) * noise_std_dev\n",
        "        noisy_input = (input_tensor + noise).requires_grad_(True)\n",
        "\n",
        "        # Get model output\n",
        "        model.zero_grad()\n",
        "        logits = model(noisy_input)\n",
        "        score = logits[0, target_class_idx]\n",
        "\n",
        "        # Calculate gradients\n",
        "        score.backward()\n",
        "\n",
        "        # Accumulate the absolute gradients\n",
        "        smooth_grad += noisy_input.grad.data.abs().squeeze(0)\n",
        "\n",
        "    # Average the accumulated gradients\n",
        "    smooth_grad /= n_samples\n",
        "\n",
        "    return smooth_grad.cpu().numpy()\n",
        "\n",
        "# --- Generate the SmoothGrad Map ---\n",
        "print(\"Generating SmoothGrad saliency map...\")\n",
        "# Use the image and predicted label from our previous steps\n",
        "smooth_grad_raw = generate_smoothgrad(model, image_to_test, pred_label_idx)\n",
        "\n",
        "# To get a single value per pixel, take the max across color channels\n",
        "smooth_saliency_map, _ = torch.max(torch.from_numpy(smooth_grad_raw), dim=0)\n",
        "smooth_saliency_map = smooth_saliency_map.numpy()\n",
        "print(\"SmoothGrad map generated successfully.\")\n",
        "\n",
        "\n",
        "# --- Visualize the Comparison ---\n",
        "# Normalize the new map\n",
        "smooth_saliency_map_smoothed = gaussian_filter(smooth_saliency_map, sigma=0.5)\n",
        "smooth_saliency_map_normalized = (smooth_saliency_map_smoothed - smooth_saliency_map_smoothed.min()) / \\\n",
        "                                 (smooth_saliency_map_smoothed.max() - smooth_saliency_map_smoothed.min())\n",
        "\n",
        "# Plotting\n",
        "fig, axes = plt.subplots(1, 2, figsize=(10, 5))\n",
        "plt.suptitle(\"XAI : SmoothGrad\", fontsize=16)\n",
        "\n",
        "# Plot the Original Saliency Map (from Snippet 6)\n",
        "axes[0].imshow(un_normalized_img)\n",
        "axes[0].imshow(saliency_map_normalized, cmap='viridis', alpha=0.6)\n",
        "axes[0].set_title(\"Original Saliency Map\")\n",
        "axes[0].axis('off')\n",
        "\n",
        "# Plot the new SmoothGrad Saliency Map\n",
        "axes[1].imshow(un_normalized_img)\n",
        "im = axes[1].imshow(smooth_saliency_map_normalized, cmap='viridis', alpha=0.6)\n",
        "axes[1].set_title(\"Denoised with SmoothGrad\")\n",
        "axes[1].axis('off')\n",
        "\n",
        "fig.colorbar(im, ax=axes[1], orientation='vertical', fraction=0.046, pad=0.04)\n",
        "plt.tight_layout(rect=[0, 0.03, 1, 0.95])\n",
        "plt.show()"
      ],
      "metadata": {
        "colab": {
          "base_uri": "https://localhost:8080/",
          "height": 540
        },
        "id": "y3EaFHlxLUgk",
        "outputId": "86a65977-afbc-48ac-9876-f9504a0855ad"
      },
      "execution_count": 7,
      "outputs": [
        {
          "output_type": "stream",
          "name": "stdout",
          "text": [
            "Generating SmoothGrad saliency map...\n",
            "SmoothGrad map generated successfully.\n"
          ]
        },
        {
          "output_type": "display_data",
          "data": {
            "text/plain": [
              "<Figure size 1000x500 with 3 Axes>"
            ],
            "image/png": "[encoded data removed]"
          },
          "metadata": {}
        }
      ]
    },
    {
      "cell_type": "code",
      "source": [
        "# Snippet 8 (Definitive Correction): Re-instantiate Model & Run Grad-CAM\n",
        "\n",
        "import torch\n",
        "import torch.nn as nn\n",
        "import torch.nn.functional as F\n",
        "import cv2\n",
        "import numpy as np\n",
        "import matplotlib.pyplot as plt\n",
        "\n",
        "# --- 1. Re-instantiate a 'Clean' Model ---\n",
        "# This ensures no old hooks are attached.\n",
        "print(\"Re-instantiating a clean model and loading best weights...\")\n",
        "clean_model = QTFClassifier(q_feature_map=trainable_qnode,\n",
        "                            weight_shapes=weight_shapes,\n",
        "                            n_classes=n_classes,\n",
        "                            in_channels=in_channels)\n",
        "# Load the best state dictionary we saved from training\n",
        "clean_model.load_state_dict(best_state)\n",
        "clean_model.to(device)\n",
        "clean_model.eval()\n",
        "print(\"Model is ready.\")\n",
        "\n",
        "\n",
        "# --- 2. Corrected Grad-CAM Implementation ---\n",
        "class GradCAM:\n",
        "    def __init__(self, model, target_layer):\n",
        "        self.model = model\n",
        "        self.target_layer = target_layer\n",
        "        self.gradients = None\n",
        "        self.activations = None\n",
        "\n",
        "        # Use the modern, full backward hook\n",
        "        target_layer.register_full_backward_hook(self._backward_hook)\n",
        "        self.forward_handle = target_layer.register_forward_hook(self._forward_hook)\n",
        "\n",
        "    def _forward_hook(self, module, input, output):\n",
        "        self.activations = output.detach()\n",
        "\n",
        "    def _backward_hook(self, module, grad_in, grad_out):\n",
        "        self.gradients = grad_out[0].detach()\n",
        "\n",
        "    def __call__(self, input_tensor, target_class_idx):\n",
        "        logits = self.model(input_tensor)\n",
        "        score = logits[0, target_class_idx]\n",
        "        self.model.zero_grad()\n",
        "        score.backward()\n",
        "\n",
        "        # Pool gradients to get channel weights\n",
        "        pooled_gradients = torch.mean(self.gradients, dim=[0, 2, 3])\n",
        "\n",
        "        # Weight activations by gradients\n",
        "        for i in range(self.activations.shape[1]):\n",
        "            self.activations[:, i, :, :] *= pooled_gradients[i]\n",
        "\n",
        "        # Create heatmap\n",
        "        heatmap = torch.mean(self.activations, dim=1).squeeze()\n",
        "        heatmap = F.relu(heatmap)\n",
        "        heatmap /= torch.max(heatmap)\n",
        "\n",
        "        return heatmap.cpu().numpy()\n",
        "\n",
        "    def remove_hooks(self):\n",
        "        self.forward_handle.remove()\n",
        "\n",
        "\n",
        "# --- 3. Generate and Visualize ---\n",
        "print(\"\\nGenerating Grad-CAM heatmap...\")\n",
        "# Target the final ReLU of the CNN feature extractor (layer [4])\n",
        "grad_cam = GradCAM(clean_model, target_layer=clean_model.feature_extractor[4])\n",
        "grad_cam_map = grad_cam(image_to_test, pred_label_idx)\n",
        "grad_cam.remove_hooks() # Clean up the hook\n",
        "\n",
        "grad_cam_map_resized = cv2.resize(grad_cam_map, (28, 28))\n",
        "print(\"Grad-CAM map generated successfully.\")\n",
        "\n",
        "# --- Final Visualization ---\n",
        "fig, axes = plt.subplots(1, 2, figsize=(10, 5))\n",
        "plt.suptitle(\"Final XAI Comparison\", fontsize=16)\n",
        "\n",
        "axes[0].imshow(un_normalized_img)\n",
        "axes[0].imshow(smooth_saliency_map_normalized, cmap='viridis', alpha=0.6)\n",
        "axes[0].set_title(\"Pixel Importance (SmoothGrad)\")\n",
        "axes[0].axis('off')\n",
        "\n",
        "axes[1].imshow(un_normalized_img)\n",
        "im = axes[1].imshow(grad_cam_map_resized, cmap='viridis', alpha=0.6)\n",
        "axes[1].set_title(\"Semantic Activation (Grad-CAM)\")\n",
        "axes[1].axis('off')\n",
        "\n",
        "fig.colorbar(im, ax=axes[1], orientation='vertical', fraction=0.046, pad=0.04)\n",
        "plt.tight_layout(rect=[0, 0.03, 1, 0.95])\n",
        "plt.show()"
      ],
      "metadata": {
        "colab": {
          "base_uri": "https://localhost:8080/",
          "height": 592
        },
        "id": "nGky5KrULl6k",
        "outputId": "2afc4760-9eb4-41e7-a14e-96c633a89814"
      },
      "execution_count": 8,
      "outputs": [
        {
          "output_type": "stream",
          "name": "stdout",
          "text": [
            "Re-instantiating a clean model and loading best weights...\n",
            "Model is ready.\n",
            "\n",
            "Generating Grad-CAM heatmap...\n",
            "Grad-CAM map generated successfully.\n"
          ]
        },
        {
          "output_type": "display_data",
          "data": {
            "text/plain": [
              "<Figure size 1000x500 with 3 Axes>"
            ],
            "image/png": "[encoded data removed]"
          },
          "metadata": {}
        }
      ]
    }
  ],
  "metadata": {
    "colab": {
      "provenance": [],
      "authorship_tag": "ABX9TyOexponFZQWj0ZtSbFDNR4A",
      "include_colab_link": true
    },
    "kernelspec": {
      "display_name": "Python 3",
      "name": "python3"
    },
    "language_info": {
      "name": "python"
    }
  },
  "nbformat": 4,
  "nbformat_minor": 0
}