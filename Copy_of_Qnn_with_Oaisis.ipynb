{
  "metadata": {
    "kernelspec": {
      "display_name": "Python 3",
      "name": "python3"
    },
    "language_info": {
      "name": "python",
      "version": "3.11.11",
      "mimetype": "text/x-python",
      "codemirror_mode": {
        "name": "ipython",
        "version": 3
      },
      "pygments_lexer": "ipython3",
      "nbconvert_exporter": "python",
      "file_extension": ".py"
    },
    "kaggle": {
      "accelerator": "nvidiaTeslaT4",
      "dataSources": [
        {
          "sourceId": 5962731,
          "sourceType": "datasetVersion",
          "datasetId": 3419493
        }
      ],
      "dockerImageVersionId": 31041,
      "isInternetEnabled": true,
      "language": "python",
      "sourceType": "notebook",
      "isGpuEnabled": true
    },
    "colab": {
      "provenance": [],
      "gpuType": "T4",
      "include_colab_link": true
    },
    "accelerator": "GPU"
  },
  "nbformat_minor": 0,
  "nbformat": 4,
  "cells": [
    {
      "cell_type": "markdown",
      "metadata": {
        "id": "view-in-github",
        "colab_type": "text"
      },
      "source": [
        "<a href=\"https://colab.research.google.com/github/tousifo/ml_notebooks/blob/main/Copy_of_Qnn_with_Oaisis.ipynb\" target=\"_parent\"><img src=\"https://colab.research.google.com/assets/colab-badge.svg\" alt=\"Open In Colab\"/></a>"
      ]
    },
    {
      "source": [
        "# IMPORTANT: RUN THIS CELL IN ORDER TO IMPORT YOUR KAGGLE DATA SOURCES,\n",
        "# THEN FEEL FREE TO DELETE THIS CELL.\n",
        "# NOTE: THIS NOTEBOOK ENVIRONMENT DIFFERS FROM KAGGLE'S PYTHON\n",
        "# ENVIRONMENT SO THERE MAY BE MISSING LIBRARIES USED BY YOUR\n",
        "# NOTEBOOK.\n",
        "import kagglehub\n",
        "ninadaithal_imagesoasis_path = kagglehub.dataset_download('ninadaithal/imagesoasis')\n",
        "\n",
        "print('Data source import complete.')\n"
      ],
      "metadata": {
        "id": "VqWu7OEXOX-V",
        "colab": {
          "base_uri": "https://localhost:8080/"
        },
        "outputId": "6f1a8080-e2b4-4e69-fecb-af0a248af8a8"
      },
      "cell_type": "code",
      "outputs": [
        {
          "output_type": "stream",
          "name": "stdout",
          "text": [
            "Downloading from https://www.kaggle.com/api/v1/datasets/download/ninadaithal/imagesoasis?dataset_version_number=1...\n"
          ]
        },
        {
          "output_type": "stream",
          "name": "stderr",
          "text": [
            "100%|██████████| 1.23G/1.23G [00:31<00:00, 41.5MB/s]"
          ]
        },
        {
          "output_type": "stream",
          "name": "stdout",
          "text": [
            "Extracting files...\n"
          ]
        },
        {
          "output_type": "stream",
          "name": "stderr",
          "text": [
            "\n"
          ]
        },
        {
          "output_type": "stream",
          "name": "stdout",
          "text": [
            "Data source import complete.\n"
          ]
        }
      ],
      "execution_count": 1
    },
    {
      "cell_type": "markdown",
      "source": [
        "# Preprocess"
      ],
      "metadata": {
        "id": "gYVz39x4OX-Z"
      }
    },
    {
      "cell_type": "code",
      "source": [
        "# Install compatible versions of JAX, jaxlib, and PennyLane dependencies\n",
        "!pip install jax==0.4.28 jaxlib==0.4.28 pennylane pennylane-lightning --quiet\n",
        "\n",
        "import os  # Import os for file system operations\n",
        "import random  # Import random for generating random numbers\n",
        "import torch  # Import PyTorch for tensor operations\n",
        "import torch.nn as nn  # Import neural network modules from PyTorch\n",
        "import torch.nn.functional as F  # Import functional operations from PyTorch\n",
        "from torch.utils.data import Dataset, DataLoader  # Import Dataset and DataLoader for data handling\n",
        "from torchvision import transforms  # Import transforms for image preprocessing\n",
        "from PIL import Image  # Import PIL for image loading\n",
        "import pennylane as qml  # Import PennyLane for quantum computing\n",
        "import numpy as np  # Import NumPy for numerical operations\n",
        "from tqdm import tqdm  # Import tqdm for progress bars\n",
        "from sklearn.metrics import accuracy_score, f1_score, confusion_matrix  # Import metrics for evaluation\n",
        "import matplotlib.pyplot as plt  # Import matplotlib for plotting\n",
        "import seaborn as sns  # Import seaborn for enhanced visualizations\n",
        "\n",
        "DATA_ROOT = ninadaithal_imagesoasis_path  # Define path to OASIS dataset\n",
        "WORKING_DIR = \"/kaggle/working/\"  # Define working directory\n",
        "\n",
        "LABEL_MAP = {\n",
        "    \"Non Demented\": 0,  # Map \"Non Demented\" to label 0\n",
        "    \"Very mild Dementia\": 1,  # Map \"Very mild Dementia\" to label 1\n",
        "    \"Mild Dementia\": 2,  # Map \"Mild Dementia\" to label 2\n",
        "    \"Moderate Dementia\": 3,  # Map \"Moderate Dementia\" to label 3\n",
        "}\n",
        "\n",
        "class_names = list(LABEL_MAP.keys())  # Create list of class names from LABEL_MAP keys\n",
        "\n",
        "if not os.path.exists(DATA_ROOT):  # Check if dataset directory exists\n",
        "    raise RuntimeError(f\"Dataset directory not found: {DATA_ROOT}\")  # Raise error if directory not found\n",
        "print(\"✔ Data root:\", DATA_ROOT)  # Print the data root directory"
      ],
      "metadata": {
        "_uuid": "8f2839f25d086af736a60e9eeb907d3b93b6e0e5",
        "_cell_guid": "b1076dfc-b9ad-4769-8c92-a6c4dae69d19",
        "trusted": true,
        "execution": {
          "iopub.status.busy": "2025-07-03T19:02:41.090973Z",
          "iopub.execute_input": "2025-07-03T19:02:41.091671Z",
          "iopub.status.idle": "2025-07-03T19:03:08.229296Z",
          "shell.execute_reply.started": "2025-07-03T19:02:41.091647Z",
          "shell.execute_reply": "2025-07-03T19:03:08.226675Z"
        },
        "id": "Drxp7-F0OX-a",
        "colab": {
          "base_uri": "https://localhost:8080/"
        },
        "outputId": "50717e82-d24f-4b4b-d98e-e2fea2dc9c23"
      },
      "outputs": [
        {
          "output_type": "stream",
          "name": "stdout",
          "text": [
            "✔ Data root: /root/.cache/kagglehub/datasets/ninadaithal/imagesoasis/versions/1\n"
          ]
        }
      ],
      "execution_count": 3
    },
    {
      "cell_type": "markdown",
      "source": [
        "# Dataset"
      ],
      "metadata": {
        "id": "7fpGsqMHOX-d"
      }
    },
    {
      "cell_type": "code",
      "source": [
        "class OASIS2DDataset(Dataset):  # Define custom Dataset class for OASIS data\n",
        "    def __init__(self, root_dir, class_names, transform=None, noise_std=0.05):  # Initialize with root directory, class names, transforms, and noise level\n",
        "        self.data = []  # Initialize empty list for image paths\n",
        "        self.labels = []  # Initialize empty list for labels\n",
        "        self.transform = transform  # Store transform function\n",
        "        self.noise_std = noise_std  # Store standard deviation for Gaussian noise\n",
        "\n",
        "        for class_name in class_names:  # Iterate through each class\n",
        "            class_dir = os.path.join(root_dir, class_name)  # Get path to class subdirectory\n",
        "            label = LABEL_MAP[class_name]  # Get integer label for class\n",
        "            for fname in os.listdir(class_dir):  # Iterate through files in class directory\n",
        "                if fname.lower().endswith(\".jpg\"):  # Check if file is a JPEG\n",
        "                    self.data.append(os.path.join(class_dir, fname))  # Add image path to data list\n",
        "                    self.labels.append(label)  # Add corresponding label to labels list\n",
        "\n",
        "    def __len__(self):  # Define length method for dataset\n",
        "        return len(self.data)  # Return number of images\n",
        "\n",
        "    def __getitem__(self, idx):  # Define method to get item by index\n",
        "        img_path = self.data[idx]  # Get image path at index\n",
        "        label = self.labels[idx]  # Get label at index\n",
        "\n",
        "        image = Image.open(img_path).convert(\"L\")  # Load image as grayscale\n",
        "        if self.transform:  # Check if transform is provided\n",
        "            image = self.transform(image)  # Apply transform to image\n",
        "\n",
        "        noisy_image = image + self.noise_std * torch.randn_like(image)  # Add Gaussian noise to image\n",
        "\n",
        "        patches = self.extract_patches(noisy_image)  # Extract random patches from noisy image\n",
        "        return torch.stack(patches), torch.tensor(label, dtype=torch.long)  # Return stacked patches and label\n",
        "\n",
        "    def extract_patches(self, image, patch_size=32, overlap_ratio=0.5):\n",
        "        \"\"\"\n",
        "        Extract patches from an image with a specified overlap ratio.\n",
        "\n",
        "        Args:\n",
        "            image (torch.Tensor): The input image tensor (C, H, W).\n",
        "            patch_size (int): The size of each square patch.\n",
        "            overlap_ratio (float): The ratio of overlap between adjacent patches (0 to 1).\n",
        "\n",
        "        Returns:\n",
        "            list: A list of extracted patch tensors.\n",
        "        \"\"\"\n",
        "        _, H, W = image.shape\n",
        "        patches = []\n",
        "\n",
        "        step = int(patch_size * (1 - overlap_ratio))\n",
        "        if step == 0:  # Avoid infinite loops if overlap_ratio is 1\n",
        "            step = 1\n",
        "\n",
        "        for top in range(0, H - patch_size + 1, step):\n",
        "            for left in range(0, W - patch_size + 1, step):\n",
        "                patch = image[:, top : top + patch_size, left : left + patch_size]\n",
        "                patches.append(patch)\n",
        "\n",
        "        # Handle remaining patches if the step doesn't perfectly align with image dimensions\n",
        "        # Extract patches from the right edge\n",
        "        if (W - patch_size) % step != 0:\n",
        "             for top in range(0, H - patch_size + 1, step):\n",
        "                 left = W - patch_size\n",
        "                 patch = image[:, top : top + patch_size, left : left + patch_size]\n",
        "                 patches.append(patch)\n",
        "\n",
        "        # Extract patches from the bottom edge\n",
        "        if (H - patch_size) % step != 0:\n",
        "            for left in range(0, W - patch_size + 1, step):\n",
        "                top = H - patch_size\n",
        "                patch = image[:, top : top + patch_size, left : left + patch_size]\n",
        "                patches.append(patch)\n",
        "\n",
        "        # Extract the bottom-right corner patch if both dimensions have remaining parts\n",
        "        if (W - patch_size) % step != 0 and (H - patch_size) % step != 0:\n",
        "            top = H - patch_size\n",
        "            left = W - patch_size\n",
        "            patch = image[:, top : top + patch_size, left : left + patch_size]\n",
        "            patches.append(patch)\n",
        "\n",
        "\n",
        "        return patches  # Return list of patches"
      ],
      "metadata": {
        "trusted": true,
        "execution": {
          "iopub.status.busy": "2025-07-03T19:03:08.230808Z",
          "iopub.execute_input": "2025-07-03T19:03:08.231387Z",
          "iopub.status.idle": "2025-07-03T19:03:08.242157Z",
          "shell.execute_reply.started": "2025-07-03T19:03:08.231356Z",
          "shell.execute_reply": "2025-07-03T19:03:08.241506Z"
        },
        "id": "RqkXap-5OX-f"
      },
      "outputs": [],
      "execution_count": 4
    },
    {
      "cell_type": "markdown",
      "source": [
        "# Model"
      ],
      "metadata": {
        "id": "Bufr-BB7OX-h"
      }
    },
    {
      "cell_type": "code",
      "source": [
        "def create_qnode(n_qubits=4):  # Define function to create quantum node\n",
        "    dev = qml.device(\"default.qubit\", wires=n_qubits)  # Initialize quantum device with specified qubits\n",
        "\n",
        "    @qml.qnode(dev, interface=\"torch\", diff_method=\"backprop\")  # Define quantum node with PyTorch interface\n",
        "    def qnode(inputs, weights):  # Define quantum circuit function\n",
        "        qml.templates.AngleEmbedding(inputs, wires=range(n_qubits), rotation=\"Y\")  # Embed inputs as Y rotations\n",
        "        qml.templates.BasicEntanglerLayers(weights, wires=range(n_qubits))  # Apply entangling layer\n",
        "        return [qml.expval(qml.PauliZ(i)) for i in range(n_qubits)]  # Return PauliZ expectations for each qubit\n",
        "\n",
        "    return qnode  # Return quantum node function\n",
        "\n",
        "class QNNMILClassifier(nn.Module):  # Define quantum neural network classifier\n",
        "    def __init__(self, n_qubits=4, num_classes=4):  # Initialize with qubits and number of classes\n",
        "        super().__init__()  # Call parent class initializer\n",
        "        self.n_qubits = n_qubits  # Store number of qubits\n",
        "\n",
        "        self.qnode = create_qnode(n_qubits)  # Create quantum node\n",
        "        weight_shapes = {\"weights\": (1, n_qubits)}  # Define shape for quantum weights\n",
        "        self.q_layer = qml.qnn.TorchLayer(self.qnode, weight_shapes)  # Create quantum layer with PyTorch interface\n",
        "\n",
        "        self.attention = nn.Sequential(  # Define attention network\n",
        "            nn.Linear(n_qubits, 8),  # Linear layer from qubits to 8 units\n",
        "            nn.Tanh(),  # Apply Tanh activation\n",
        "            nn.Linear(8, 1),  # Linear layer to output attention score\n",
        "        )\n",
        "\n",
        "        self.classifier = nn.Linear(n_qubits, num_classes)  # Define final classifier layer\n",
        "\n",
        "    def forward(self, patches):  # Define forward pass\n",
        "        B, N, C, H, W = patches.shape  # Get batch size, number of patches, channels, height, width\n",
        "        outputs = []  # Initialize list for quantum outputs\n",
        "\n",
        "        for i in range(N):  # Iterate through patches\n",
        "            patch = patches[:, i].reshape(B, -1)[:, : self.n_qubits]  # Flatten patch and slice to n_qubits\n",
        "            q_out = self.q_layer(patch)  # Pass patch through quantum layer\n",
        "            outputs.append(q_out)  # Append quantum output\n",
        "\n",
        "        patch_outputs = torch.stack(outputs, dim=1)  # Stack outputs to (B, N, n_qubits)\n",
        "\n",
        "        attn_logits = self.attention(patch_outputs)  # Compute attention logits\n",
        "        attn_weights = F.softmax(attn_logits.squeeze(-1), dim=1)  # Apply softmax to get attention weights\n",
        "\n",
        "        bag_rep = torch.sum(attn_weights.unsqueeze(-1) * patch_outputs, dim=1)  # Compute weighted sum of patch outputs\n",
        "\n",
        "        return self.classifier(bag_rep)  # Return classification logits\n",
        "\n",
        "class ContrastiveLoss(nn.Module):  # Define contrastive loss class\n",
        "    def __init__(self, temperature=0.5):  # Initialize with temperature parameter\n",
        "        super().__init__()  # Call parent class initializer\n",
        "        self.temperature = temperature  # Store temperature value\n",
        "\n",
        "    def forward(self, z1, z2):  # Define forward pass for loss\n",
        "        z1 = F.normalize(z1, dim=1)  # Normalize first input tensor\n",
        "        z2 = F.normalize(z2, dim=1)  # Normalize second input tensor\n",
        "        sim = torch.matmul(z1, z2.T) / self.temperature  # Compute similarity matrix\n",
        "        labels = torch.arange(z1.size(0)).to(z1.device)  # Create labels for contrastive loss\n",
        "        return F.cross_entropy(sim, labels)  # Return cross-entropy loss"
      ],
      "metadata": {
        "trusted": true,
        "execution": {
          "iopub.status.busy": "2025-07-03T19:03:08.243007Z",
          "iopub.execute_input": "2025-07-03T19:03:08.243341Z",
          "iopub.status.idle": "2025-07-03T19:03:08.266235Z",
          "shell.execute_reply.started": "2025-07-03T19:03:08.24331Z",
          "shell.execute_reply": "2025-07-03T19:03:08.265674Z"
        },
        "id": "HDpepcr2OX-i"
      },
      "outputs": [],
      "execution_count": 5
    },
    {
      "cell_type": "markdown",
      "source": [
        "# Train_eval"
      ],
      "metadata": {
        "id": "Vacbwh_rOX-l"
      }
    },
    {
      "cell_type": "code",
      "source": [
        "def train_joint(model, dataloader, optimizer, criterion_cls, criterion_cont, device):  # Define joint training function\n",
        "    model.train()  # Set model to training mode\n",
        "    total_loss = 0.0  # Initialize total loss\n",
        "    correct = 0  # Initialize correct predictions count\n",
        "    all_preds = []  # Initialize list for predictions\n",
        "    all_labels = []  # Initialize list for true labels\n",
        "\n",
        "    for patches, labels in tqdm(dataloader, desc=\"Training\"):  # Iterate through dataloader with progress bar\n",
        "        patches, labels = patches.to(device), labels.to(device)  # Move data to device\n",
        "        noisy = patches + .3 * torch.randn_like(patches)  # Add Gaussian noise to patches\n",
        "\n",
        "        logits_clean = model(patches)  # Forward pass on clean patches\n",
        "        logits_noisy = model(noisy)  # Forward pass on noisy patches\n",
        "\n",
        "        loss_cls = criterion_cls(logits_clean, labels)  # Compute classification loss\n",
        "        loss_cont = criterion_cont(logits_clean, logits_noisy)  # Compute contrastive loss\n",
        "\n",
        "        loss = loss_cls + 0.1 * loss_cont  # Combine losses with weighting\n",
        "        optimizer.zero_grad()  # Clear gradients\n",
        "        loss.backward()  # Compute gradients\n",
        "        optimizer.step()  # Update model parameters\n",
        "\n",
        "        total_loss += loss.item()  # Accumulate loss\n",
        "        preds = torch.argmax(logits_clean, dim=1)  # Get predicted classes\n",
        "        correct += (preds == labels).sum().item()  # Count correct predictions\n",
        "        all_preds.extend(preds.cpu().numpy())  # Collect predictions\n",
        "        all_labels.extend(labels.cpu().numpy())  # Collect true labels\n",
        "\n",
        "    avg_loss = total_loss / len(dataloader)  # Compute average loss\n",
        "    accuracy = accuracy_score(all_labels, all_preds)  # Compute accuracy\n",
        "    f1 = f1_score(all_labels, all_preds, average='weighted')  # Compute weighted F1 score\n",
        "    return avg_loss, accuracy, f1, all_preds, all_labels  # Return metrics and predictions\n",
        "\n",
        "def validate(model, dataloader, criterion_cls, device):  # Define validation function\n",
        "    model.eval()  # Set model to evaluation mode\n",
        "    total_loss = 0.0  # Initialize total loss\n",
        "    all_preds = []  # Initialize list for predictions\n",
        "    all_labels = []  # Initialize list for true labels\n",
        "\n",
        "    with torch.no_grad():  # Disable gradient computation\n",
        "        for patches, labels in tqdm(dataloader, desc=\"Validating\"):  # Iterate through dataloader with progress bar\n",
        "            patches, labels = patches.to(device), labels.to(device)  # Move data to device\n",
        "            logits = model(patches)  # Forward pass\n",
        "            loss = criterion_cls(logits, labels)  # Compute classification loss\n",
        "            total_loss += loss.item()  # Accumulate loss\n",
        "            preds = torch.argmax(logits, dim=1)  # Get predicted classes\n",
        "            all_preds.extend(preds.cpu().numpy())  # Collect predictions\n",
        "            all_labels.extend(labels.cpu().numpy())  # Collect true labels\n",
        "\n",
        "    avg_loss = total_loss / len(dataloader)  # Compute average loss\n",
        "    accuracy = accuracy_score(all_labels, all_preds)  # Compute accuracy\n",
        "    f1 = f1_score(all_labels, all_preds, average='weighted')  # Compute weighted F1 score\n",
        "    return avg_loss, accuracy, f1, all_preds, all_labels  # Return metrics and predictions\n",
        "\n",
        "def compute_prototypes(model, loader, device):  # Define function to compute class prototypes\n",
        "    model.eval()  # Set model to evaluation mode\n",
        "    class_feats = {}  # Initialize dictionary for class features\n",
        "\n",
        "    with torch.no_grad():  # Disable gradient computation\n",
        "        for patches, labels in loader:  # Iterate through dataloader\n",
        "            patches, labels = patches.to(device), labels.to(device)  # Move data to device\n",
        "            feats = model(patches)  # Forward pass to get features (logits)\n",
        "\n",
        "            for i, lbl in enumerate(labels):  # Iterate through batch\n",
        "                c = lbl.item()  # Get class label\n",
        "                if c not in class_feats:  # Check if class is in dictionary\n",
        "                    class_feats[c] = []  # Initialize list for class features\n",
        "                class_feats[c].append(feats[i].cpu())  # Append features to class\n",
        "\n",
        "    prototypes = {c: torch.stack(class_feats[c]).mean(0) for c in class_feats}  # Compute mean feature for each class\n",
        "    return prototypes  # Return prototypes\n",
        "\n",
        "def plot_confusion_matrix(labels, preds, class_names, epoch):  # Define function to plot confusion matrix\n",
        "    cm = confusion_matrix(labels, preds)  # Compute confusion matrix\n",
        "    plt.figure(figsize=(8, 6))  # Create figure with size 8x6\n",
        "    sns.heatmap(cm, annot=True, fmt='d', cmap='Blues', xticklabels=class_names, yticklabels=class_names)  # Plot heatmap\n",
        "    plt.title(f'Confusion Matrix (Epoch {epoch+1})')  # Set title with epoch number\n",
        "    plt.xlabel('Predicted')  # Label x-axis\n",
        "    plt.ylabel('True')  # Label y-axis\n",
        "    plt.savefig(f'confusion_matrix_epoch_{epoch+1}.png')  # Save plot to file\n",
        "    plt.close()  # Close figure\n",
        "\n",
        "def plot_validation_curves(train_accs, val_accs, train_f1s, val_f1s, train_losses, val_losses):  # Define function to plot validation curves\n",
        "    epochs = range(1, len(train_accs) + 1)  # Create range of epochs\n",
        "    plt.figure(figsize=(12, 4))  # Create figure with size 12x4\n",
        "\n",
        "    plt.subplot(1, 3, 1)  # Create first subplot for accuracy\n",
        "    plt.plot(epochs, train_accs, 'b-', label='Train Accuracy')  # Plot training accuracy\n",
        "    plt.plot(epochs, val_accs, 'r-', label='Validation Accuracy')  # Plot validation accuracy\n",
        "    plt.title('Accuracy Curve')  # Set title\n",
        "    plt.xlabel('Epoch')  # Label x-axis\n",
        "    plt.ylabel('Accuracy')  # Label y-axis\n",
        "    plt.legend()  # Show legend\n",
        "    plt.grid(True)  # Enable grid\n",
        "\n",
        "    plt.subplot(1, 3, 2)  # Create second subplot for F1 score\n",
        "    plt.plot(epochs, train_f1s, 'b-', label='Train F1 Score')  # Plot training F1 score\n",
        "    plt.plot(epochs, val_f1s, 'r-', label='Validation F1 Score')  # Plot validation F1 score\n",
        "    plt.title('F1 Score Curve')  # Set title\n",
        "    plt.xlabel('Epoch')  # Label x-axis\n",
        "    plt.ylabel('F1 Score')  # Label y-axis\n",
        "    plt.legend()  # Show legend\n",
        "    plt.grid(True)  # Enable grid\n",
        "\n",
        "    plt.subplot(1, 3, 3)  # Create third subplot for loss\n",
        "    plt.plot(epochs, train_losses, 'b-', label='Train Loss')  # Plot training loss\n",
        "    plt.plot(epochs, val_losses, 'r-', label='Validation Loss')  # Plot validation loss\n",
        "    plt.title('Loss Curve')  # Set title\n",
        "    plt.xlabel('Epoch')  # Label x-axis\n",
        "    plt.ylabel('Loss')  # Label y-axis\n",
        "    plt.legend()  # Show legend\n",
        "    plt.grid(True)  # Enable grid\n",
        "\n",
        "    plt.tight_layout()  # Adjust layout to prevent overlap\n",
        "    plt.savefig('validation_curves.png')  # Save plot to file\n",
        "    plt.close()  # Close figure\n",
        "\n",
        "if __name__ == \"__main__\":  # Main execution block\n",
        "    device = torch.device(\"cuda\" if torch.cuda.is_available() else \"cpu\")  # Select GPU if available, else CPU\n",
        "\n",
        "    transform = transforms.Compose([  # Define image transformations\n",
        "        transforms.Resize((128, 128)),  # Resize images to 128x128\n",
        "        transforms.ToTensor(),  # Convert images to tensors\n",
        "    ])\n",
        "\n",
        "    dataset = OASIS2DDataset(os.path.join(DATA_ROOT, 'Data'), class_names, transform=transform)  # Create dataset instance\n",
        "    train_size = int(0.8 * len(dataset))  # Calculate training set size (80%)\n",
        "    test_size = len(dataset) - train_size  # Calculate test set size (20%)\n",
        "    train_set, test_set = torch.utils.data.random_split(dataset, [train_size, test_size])  # Split dataset\n",
        "\n",
        "    train_loader = DataLoader(train_set, batch_size=8, shuffle=True, num_workers=2, pin_memory=True)  # Create training DataLoader\n",
        "    test_loader = DataLoader(test_set, batch_size=8, shuffle=False, num_workers=2, pin_memory=True)  # Create test DataLoader\n",
        "\n",
        "    model = QNNMILClassifier(n_qubits=4, num_classes=len(class_names)).to(device)  # Initialize model and move to device\n",
        "\n",
        "    optimizer = torch.optim.Adam(model.parameters(), lr=0.01)  # Initialize Adam optimizer\n",
        "    loss_fn = nn.CrossEntropyLoss()  # Initialize cross-entropy loss\n",
        "    contrast_fn = ContrastiveLoss()  # Initialize contrastive loss\n",
        "\n",
        "    print(\"\\n▶️  Training with contrastive + classification loss...\\n\")  # Print training start message\n",
        "    num_epochs = 10  # Set number of epochs\n",
        "    train_accs, val_accs = [], []  # Initialize lists for accuracies\n",
        "    train_f1s, val_f1s = [], []  # Initialize lists for F1 scores\n",
        "    train_losses, val_losses = [], []  # Initialize lists for losses\n",
        "\n",
        "    for epoch in range(num_epochs):  # Iterate through epochs\n",
        "        train_loss, train_acc, train_f1, train_preds, train_labels = train_joint(\n",
        "            model, train_loader, optimizer, loss_fn, contrast_fn, device\n",
        "        )  # Train model for one epoch\n",
        "        val_loss, val_acc, val_f1, val_preds, val_labels = validate(\n",
        "            model, test_loader, loss_fn, device\n",
        "        )  # Validate model\n",
        "\n",
        "        train_accs.append(train_acc)  # Store training accuracy\n",
        "        val_accs.append(val_acc)  # Store validation accuracy\n",
        "        train_f1s.append(train_f1)  # Store training F1 score\n",
        "        val_f1s.append(val_f1)  # Store validation F1 score\n",
        "        train_losses.append(train_loss)  # Store training loss\n",
        "        val_losses.append(val_loss)  # Store validation loss\n",
        "\n",
        "        print(f\"Epoch {epoch+1:02d} | \"\n",
        "              f\"Train Loss: {train_loss:.4f} | Train Acc: {train_acc:.4f} | Train F1: {train_f1:.4f} | \"\n",
        "              f\"Val Loss: {val_loss:.4f} | Val Acc: {val_acc:.4f} | Val F1: {val_f1:.4f}\")  # Print epoch metrics\n",
        "\n",
        "        plot_confusion_matrix(val_labels, val_preds, class_names, epoch)  # Plot confusion matrix for validation\n",
        "\n",
        "    plot_validation_curves(train_accs, val_accs, train_f1s, val_f1s, train_losses, val_losses)  # Plot validation curves\n",
        "\n",
        "    prototypes = compute_prototypes(model, train_loader, device)  # Compute prototypes on training set\n",
        "    for cls_idx, proto in prototypes.items():  # Iterate through prototypes\n",
        "        print(f\"Prototype for class {cls_idx} ({class_names[cls_idx]}): {proto.numpy()[:5]} ...\")  # Print prototype features"
      ],
      "metadata": {
        "trusted": true,
        "execution": {
          "iopub.status.busy": "2025-07-03T19:03:08.26772Z",
          "iopub.execute_input": "2025-07-03T19:03:08.267945Z",
          "execution_failed": "2025-07-03T20:33:25.165Z"
        },
        "id": "-YJO_9uMOX-n",
        "colab": {
          "base_uri": "https://localhost:8080/"
        },
        "outputId": "e3b41a83-7637-4fd7-e8db-a9081dcfd533"
      },
      "outputs": [
        {
          "output_type": "stream",
          "name": "stdout",
          "text": [
            "\n",
            "▶️  Training with contrastive + classification loss...\n",
            "\n"
          ]
        },
        {
          "output_type": "stream",
          "name": "stderr",
          "text": [
            "Training:   6%|▌         | 509/8644 [15:50<4:23:30,  1.94s/it]"
          ]
        }
      ],
      "execution_count": null
    }
  ]
}