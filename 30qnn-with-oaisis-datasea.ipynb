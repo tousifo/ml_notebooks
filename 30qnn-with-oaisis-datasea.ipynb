{
 "cells": [
  {
   "cell_type": "code",
   "execution_count": 1,
   "id": "e097b412",
   "metadata": {
    "execution": {
     "iopub.execute_input": "2025-06-23T21:16:12.380622Z",
     "iopub.status.busy": "2025-06-23T21:16:12.380337Z",
     "iopub.status.idle": "2025-06-23T21:16:33.437806Z",
     "shell.execute_reply": "2025-06-23T21:16:33.436927Z"
    },
    "id": "VMD2bk_78Zj6",
    "outputId": "a2fba9ba-0847-47ee-9b9c-fc730d2e3d79",
    "papermill": {
     "duration": 21.06312,
     "end_time": "2025-06-23T21:16:33.439240",
     "exception": false,
     "start_time": "2025-06-23T21:16:12.376120",
     "status": "completed"
    },
    "tags": []
   },
   "outputs": [
    {
     "name": "stdout",
     "output_type": "stream",
     "text": [
      "\u001b[2K     \u001b[90m━━━━━━━━━━━━━━━━━━━━━━━━━━━━━━━━━━━━━━━━\u001b[0m \u001b[32m56.1/56.1 kB\u001b[0m \u001b[31m2.3 MB/s\u001b[0m eta \u001b[36m0:00:00\u001b[0m\r\n",
      "\u001b[2K   \u001b[90m━━━━━━━━━━━━━━━━━━━━━━━━━━━━━━━━━━━━━━━━\u001b[0m \u001b[32m1.9/1.9 MB\u001b[0m \u001b[31m28.3 MB/s\u001b[0m eta \u001b[36m0:00:00\u001b[0m\r\n",
      "\u001b[2K   \u001b[90m━━━━━━━━━━━━━━━━━━━━━━━━━━━━━━━━━━━━━━━━\u001b[0m \u001b[32m77.5/77.5 MB\u001b[0m \u001b[31m21.3 MB/s\u001b[0m eta \u001b[36m0:00:00\u001b[0m\r\n",
      "\u001b[2K   \u001b[90m━━━━━━━━━━━━━━━━━━━━━━━━━━━━━━━━━━━━━━━━\u001b[0m \u001b[32m2.3/2.3 MB\u001b[0m \u001b[31m64.8 MB/s\u001b[0m eta \u001b[36m0:00:00\u001b[0m\r\n",
      "\u001b[2K   \u001b[90m━━━━━━━━━━━━━━━━━━━━━━━━━━━━━━━━━━━━━━━━\u001b[0m \u001b[32m2.5/2.5 MB\u001b[0m \u001b[31m66.8 MB/s\u001b[0m eta \u001b[36m0:00:00\u001b[0m\r\n",
      "\u001b[2K   \u001b[90m━━━━━━━━━━━━━━━━━━━━━━━━━━━━━━━━━━━━━━━━\u001b[0m \u001b[32m930.8/930.8 kB\u001b[0m \u001b[31m42.3 MB/s\u001b[0m eta \u001b[36m0:00:00\u001b[0m\r\n",
      "\u001b[2K   \u001b[90m━━━━━━━━━━━━━━━━━━━━━━━━━━━━━━━━━━━━━━━━\u001b[0m \u001b[32m2.1/2.1 MB\u001b[0m \u001b[31m58.9 MB/s\u001b[0m eta \u001b[36m0:00:00\u001b[0m\r\n",
      "\u001b[2K   \u001b[90m━━━━━━━━━━━━━━━━━━━━━━━━━━━━━━━━━━━━━━━━\u001b[0m \u001b[32m8.6/8.6 MB\u001b[0m \u001b[31m99.4 MB/s\u001b[0m eta \u001b[36m0:00:00\u001b[0m\r\n",
      "\u001b[2K   \u001b[90m━━━━━━━━━━━━━━━━━━━━━━━━━━━━━━━━━━━━━━━━\u001b[0m \u001b[32m167.9/167.9 kB\u001b[0m \u001b[31m3.4 MB/s\u001b[0m eta \u001b[36m0:00:00\u001b[0m\r\n",
      "\u001b[?25h\u001b[31mERROR: pip's dependency resolver does not currently take into account all the packages that are installed. This behaviour is the source of the following dependency conflicts.\r\n",
      "dopamine-rl 4.1.2 requires gymnasium>=1.0.0, but you have gymnasium 0.29.0 which is incompatible.\r\n",
      "orbax-checkpoint 0.11.10 requires jax>=0.5.0, but you have jax 0.4.28 which is incompatible.\r\n",
      "flax 0.10.5 requires jax>=0.5.1, but you have jax 0.4.28 which is incompatible.\u001b[0m\u001b[31m\r\n",
      "\u001b[0m"
     ]
    }
   ],
   "source": [
    "# preprocess.py\n",
    "# Install compatible versions of JAX, jaxlib, and PennyLane dependencies\n",
    "!pip install jax==0.4.28 jaxlib==0.4.28 pennylane pennylane-lightning --quiet"
   ]
  },
  {
   "cell_type": "markdown",
   "id": "221b01bb",
   "metadata": {
    "id": "h20nj-RWcB0r",
    "papermill": {
     "duration": 0.00405,
     "end_time": "2025-06-23T21:16:33.448114",
     "exception": false,
     "start_time": "2025-06-23T21:16:33.444064",
     "status": "completed"
    },
    "tags": []
   },
   "source": [
    "# Preprocess"
   ]
  },
  {
   "cell_type": "code",
   "execution_count": 2,
   "id": "484e71ad",
   "metadata": {
    "_cell_guid": "b1076dfc-b9ad-4769-8c92-a6c4dae69d19",
    "_uuid": "8f2839f25d086af736a60e9eeb907d3b93b6e0e5",
    "execution": {
     "iopub.execute_input": "2025-06-23T21:16:33.456995Z",
     "iopub.status.busy": "2025-06-23T21:16:33.456732Z",
     "iopub.status.idle": "2025-06-23T21:17:01.143191Z",
     "shell.execute_reply": "2025-06-23T21:17:01.142157Z"
    },
    "id": "HX61rCKKcB0s",
    "outputId": "d300cb10-c6be-4820-8d6b-be6eeda636f3",
    "papermill": {
     "duration": 27.692665,
     "end_time": "2025-06-23T21:17:01.144554",
     "exception": false,
     "start_time": "2025-06-23T21:16:33.451889",
     "status": "completed"
    },
    "tags": []
   },
   "outputs": [
    {
     "name": "stdout",
     "output_type": "stream",
     "text": [
      "✔ Data root: /kaggle/input/imagesoasis/Data\n"
     ]
    }
   ],
   "source": [
    "# preprocess.py\n",
    "# Install compatible versions of JAX, jaxlib, and PennyLane dependencies\n",
    "!pip install jax==0.4.28 jaxlib==0.4.28 pennylane pennylane-lightning --quiet\n",
    "\n",
    "import os  # Import os for file system operations\n",
    "import random  # Import random for generating random numbers\n",
    "import torch  # Import PyTorch for tensor operations\n",
    "import torch.nn as nn  # Import neural network modules from PyTorch\n",
    "import torch.nn.functional as F  # Import functional operations from PyTorch\n",
    "from torch.utils.data import Dataset, DataLoader  # Import Dataset and DataLoader for data handling\n",
    "from torchvision import transforms  # Import transforms for image preprocessing\n",
    "from PIL import Image  # Import PIL for image loading\n",
    "import pennylane as qml  # Import PennyLane for quantum computing\n",
    "import numpy as np  # Import NumPy for numerical operations\n",
    "from tqdm import tqdm  # Import tqdm for progress bars\n",
    "from sklearn.metrics import accuracy_score, f1_score, confusion_matrix  # Import metrics for evaluation\n",
    "import matplotlib.pyplot as plt  # Import matplotlib for plotting\n",
    "import seaborn as sns  # Import seaborn for enhanced visualizations\n",
    "\n",
    "DATA_ROOT = \"/kaggle/input/imagesoasis/Data\"  # Define path to OASIS dataset\n",
    "WORKING_DIR = \"/kaggle/working/\"  # Define working directory\n",
    "\n",
    "LABEL_MAP = {\n",
    "    \"Non Demented\": 0,  # Map \"Non Demented\" to label 0\n",
    "    \"Very mild Dementia\": 1,  # Map \"Very mild Dementia\" to label 1\n",
    "    \"Mild Dementia\": 2,  # Map \"Mild Dementia\" to label 2\n",
    "    \"Moderate Dementia\": 3,  # Map \"Moderate Dementia\" to label 3\n",
    "}\n",
    "\n",
    "class_names = list(LABEL_MAP.keys())  # Create list of class names from LABEL_MAP keys\n",
    "\n",
    "if not os.path.exists(DATA_ROOT):  # Check if dataset directory exists\n",
    "    raise RuntimeError(f\"Dataset directory not found: {DATA_ROOT}\")  # Raise error if directory not found\n",
    "print(\"✔ Data root:\", DATA_ROOT)  # Print the data root directory"
   ]
  },
  {
   "cell_type": "markdown",
   "id": "c224dc66",
   "metadata": {
    "id": "3eoAmRcecB0s",
    "papermill": {
     "duration": 0.003734,
     "end_time": "2025-06-23T21:17:01.152610",
     "exception": false,
     "start_time": "2025-06-23T21:17:01.148876",
     "status": "completed"
    },
    "tags": []
   },
   "source": [
    "# Dataset"
   ]
  },
  {
   "cell_type": "code",
   "execution_count": 3,
   "id": "0059ed5b",
   "metadata": {
    "execution": {
     "iopub.execute_input": "2025-06-23T21:17:01.161593Z",
     "iopub.status.busy": "2025-06-23T21:17:01.161110Z",
     "iopub.status.idle": "2025-06-23T21:17:01.170112Z",
     "shell.execute_reply": "2025-06-23T21:17:01.169487Z"
    },
    "id": "FU9itj24cB0t",
    "papermill": {
     "duration": 0.014944,
     "end_time": "2025-06-23T21:17:01.171376",
     "exception": false,
     "start_time": "2025-06-23T21:17:01.156432",
     "status": "completed"
    },
    "tags": []
   },
   "outputs": [],
   "source": [
    "# =====================\n",
    "# 1. Dataset: MIL Patch Extraction with Object Coverage Strategy\n",
    "# =====================\n",
    "class OASIS2DDataset(Dataset):\n",
    "    def __init__(self, root_dir, class_names, transform=None, noise_std=0.05, patch_size=32, stride=16):  # Initialize with root directory, class names, transforms, noise level, patch size and stride\n",
    "        self.data = []  # Initialize empty list for image paths\n",
    "        self.labels = []  # Initialize empty list for labels\n",
    "        self.transform = transform  # Store transform function\n",
    "        self.noise_std = noise_std  # Store standard deviation for Gaussian noise\n",
    "        self.patch_size = patch_size # Store patch size\n",
    "        self.stride = stride # Store stride\n",
    "\n",
    "        for class_name in class_names:  # Iterate through each class\n",
    "            class_dir = os.path.join(root_dir, class_name)  # Get path to class subdirectory\n",
    "            label = LABEL_MAP[class_name]  # Get integer label for class\n",
    "            class_images = [os.path.join(class_dir, fname) for fname in os.listdir(class_dir) if fname.lower().endswith(\".jpg\")]  # Collect all JPEG image paths\n",
    "            if class_name == \"Moderate Dementia\":  # For Moderate Dementia, use all available images (488)\n",
    "                selected_images = class_images  # Take all 488 images\n",
    "            elif len(class_images) >= 2000:  # For other classes with 2000 or more images\n",
    "                selected_images = random.sample(class_images, 2000)  # Randomly sample exactly 2000 images\n",
    "            else:\n",
    "                raise ValueError(f\"Class {class_name} has fewer than 2000 images: {len(class_images)}\")  # Error if a class has < 2000 excluding Moderate Dementia\n",
    "            self.data.extend(selected_images)  # Add selected image paths to data list\n",
    "            self.labels.extend([label] * len(selected_images))  # Add corresponding labels to labels list\n",
    "\n",
    "    def __len__(self):\n",
    "        return len(self.data)\n",
    "\n",
    "    def __getitem__(self, idx):\n",
    "        img_path = self.data[idx]\n",
    "        label = self.labels[idx]\n",
    "        image = Image.open(img_path).convert(\"L\")\n",
    "        if self.transform:\n",
    "            image = self.transform(image)\n",
    "\n",
    "        # Add noise to simulate clinical imaging variability\n",
    "        image = image + self.noise_std * torch.randn_like(image)\n",
    "\n",
    "        # Extract patches using sliding window to cover full object area\n",
    "        patches = self.extract_patches(image)\n",
    "        return torch.stack(patches), torch.tensor(label)\n",
    "\n",
    "    def extract_patches(self, image):\n",
    "        # Cover entire image using sliding window with overlap\n",
    "        _, H, W = image.shape\n",
    "        patches = []\n",
    "        for y in range(0, H - self.patch_size + 1, self.stride):\n",
    "            for x in range(0, W - self.patch_size + 1, self.stride):\n",
    "                patch = image[:, y:y+self.patch_size, x:x+self.patch_size]\n",
    "                patches.append(patch)\n",
    "        return patches"
   ]
  },
  {
   "cell_type": "markdown",
   "id": "14f289c7",
   "metadata": {
    "id": "H6c4FRaPcB0t",
    "papermill": {
     "duration": 0.003777,
     "end_time": "2025-06-23T21:17:01.179060",
     "exception": false,
     "start_time": "2025-06-23T21:17:01.175283",
     "status": "completed"
    },
    "tags": []
   },
   "source": [
    "# Model"
   ]
  },
  {
   "cell_type": "code",
   "execution_count": 4,
   "id": "98207775",
   "metadata": {
    "execution": {
     "iopub.execute_input": "2025-06-23T21:17:01.187759Z",
     "iopub.status.busy": "2025-06-23T21:17:01.187497Z",
     "iopub.status.idle": "2025-06-23T21:17:01.197562Z",
     "shell.execute_reply": "2025-06-23T21:17:01.196771Z"
    },
    "id": "Nl969LtLcB0t",
    "papermill": {
     "duration": 0.015994,
     "end_time": "2025-06-23T21:17:01.198915",
     "exception": false,
     "start_time": "2025-06-23T21:17:01.182921",
     "status": "completed"
    },
    "tags": []
   },
   "outputs": [],
   "source": [
    "def create_qnode(n_qubits=4):  # Define function to create quantum node\n",
    "    dev = qml.device(\"default.qubit\", wires=n_qubits)  # Initialize quantum device with specified qubits\n",
    "\n",
    "    @qml.qnode(dev, interface=\"torch\", diff_method=\"backprop\")  # Define quantum node with PyTorch interface\n",
    "    def qnode(inputs, weights):  # Define quantum circuit function\n",
    "        qml.templates.AngleEmbedding(inputs, wires=range(n_qubits), rotation=\"Y\")  # Embed inputs as Y rotations\n",
    "        qml.templates.BasicEntanglerLayers(weights, wires=range(n_qubits))  # Apply entangling layer\n",
    "        return [qml.expval(qml.PauliZ(i)) for i in range(n_qubits)]  # Return PauliZ expectations for each qubit\n",
    "\n",
    "    return qnode  # Return quantum node function\n",
    "\n",
    "class QNNMILClassifier(nn.Module):\n",
    "    def __init__(self, n_qubits=4, num_classes=4):\n",
    "        super().__init__()\n",
    "        self.n_qubits = n_qubits\n",
    "        self.qnode = create_qnode(n_qubits)\n",
    "        weight_shapes = {\"weights\": (1, n_qubits)} # Changed from (n_qubits,) to (1, n_qubits)\n",
    "        self.q_layer = qml.qnn.TorchLayer(self.qnode, weight_shapes)\n",
    "\n",
    "        # Attention scores to learn which patches are most relevant (MIL core)\n",
    "        self.attention = nn.Sequential(\n",
    "            nn.Linear(n_qubits, 8), nn.Tanh(), nn.Linear(8, 1)\n",
    "        )\n",
    "        self.classifier = nn.Linear(n_qubits, num_classes)  # final classification layer\n",
    "\n",
    "    def forward(self, patches):\n",
    "        B, N, C, H, W = patches.shape\n",
    "        outputs = []\n",
    "        for i in range(N):\n",
    "            patch = patches[:, i].reshape(B, -1)[:, :self.n_qubits]\n",
    "            q_out = self.q_layer(patch)\n",
    "            outputs.append(q_out)\n",
    "        patch_outputs = torch.stack(outputs, dim=1)\n",
    "        attn_weights = F.softmax(self.attention(patch_outputs).squeeze(-1), dim=1)\n",
    "        bag_rep = torch.sum(attn_weights.unsqueeze(-1) * patch_outputs, dim=1)\n",
    "        return self.classifier(bag_rep), bag_rep  # also return embedding for contrastive use\n",
    "\n",
    "class ContrastiveLoss(nn.Module):\n",
    "    def __init__(self, temperature=0.5):\n",
    "        super().__init__()\n",
    "        self.temperature = temperature\n",
    "\n",
    "    def forward(self, bag_reps, labels, prototypes):\n",
    "        bag_reps = F.normalize(bag_reps, dim=1)\n",
    "        protos = torch.stack([prototypes[label.item()] for label in labels]).to(bag_reps.device)\n",
    "        protos = F.normalize(protos, dim=1)\n",
    "        sim = torch.sum(bag_reps * protos, dim=1) / self.temperature\n",
    "        return -torch.mean(sim)"
   ]
  },
  {
   "cell_type": "code",
   "execution_count": 5,
   "id": "0481b1a2",
   "metadata": {
    "execution": {
     "iopub.execute_input": "2025-06-23T21:17:01.207744Z",
     "iopub.status.busy": "2025-06-23T21:17:01.207315Z",
     "iopub.status.idle": "2025-06-23T21:17:01.212336Z",
     "shell.execute_reply": "2025-06-23T21:17:01.211758Z"
    },
    "id": "BuyOFpbAyQT5",
    "papermill": {
     "duration": 0.010596,
     "end_time": "2025-06-23T21:17:01.213485",
     "exception": false,
     "start_time": "2025-06-23T21:17:01.202889",
     "status": "completed"
    },
    "tags": []
   },
   "outputs": [],
   "source": [
    "def compute_prototypes(model, loader, device):\n",
    "    model.eval()\n",
    "    features_by_class = {}\n",
    "    with torch.no_grad():\n",
    "        for patches, labels in tqdm(loader):\n",
    "            patches, labels = patches.to(device), labels.to(device)\n",
    "            _, bag_rep = model(patches)\n",
    "            for i in range(len(labels)):\n",
    "                c = labels[i].item()\n",
    "                if c not in features_by_class:\n",
    "                    features_by_class[c] = []\n",
    "                features_by_class[c].append(bag_rep[i].detach().cpu())\n",
    "    return {c: torch.stack(features).mean(0) for c, features in features_by_class.items()}\n"
   ]
  },
  {
   "cell_type": "markdown",
   "id": "ac163e6c",
   "metadata": {
    "id": "GRZ2OZGhcB0u",
    "papermill": {
     "duration": 0.003757,
     "end_time": "2025-06-23T21:17:01.221176",
     "exception": false,
     "start_time": "2025-06-23T21:17:01.217419",
     "status": "completed"
    },
    "tags": []
   },
   "source": [
    "# Train_eval"
   ]
  },
  {
   "cell_type": "code",
   "execution_count": 6,
   "id": "fffc4ab3",
   "metadata": {
    "execution": {
     "iopub.execute_input": "2025-06-23T21:17:01.230007Z",
     "iopub.status.busy": "2025-06-23T21:17:01.229787Z",
     "iopub.status.idle": "2025-06-24T00:42:24.664374Z",
     "shell.execute_reply": "2025-06-24T00:42:24.663163Z"
    },
    "id": "MqEhQwiScB0u",
    "outputId": "0b543fa7-5300-49a2-bd44-aec3ea5297ef",
    "papermill": {
     "duration": 12323.440639,
     "end_time": "2025-06-24T00:42:24.665581",
     "exception": false,
     "start_time": "2025-06-23T21:17:01.224942",
     "status": "completed"
    },
    "tags": []
   },
   "outputs": [
    {
     "name": "stdout",
     "output_type": "stream",
     "text": [
      "\n",
      "▶️  Training with contrastive + classification loss...\n",
      "\n"
     ]
    },
    {
     "name": "stderr",
     "output_type": "stream",
     "text": [
      "100%|██████████| 649/649 [05:06<00:00,  2.12it/s]\n",
      "Training: 100%|██████████| 649/649 [13:46<00:00,  1.27s/it]\n",
      "Validating: 100%|██████████| 163/163 [01:17<00:00,  2.11it/s]\n"
     ]
    },
    {
     "name": "stdout",
     "output_type": "stream",
     "text": [
      "Epoch 01 | Train Loss: 1.1862 | Train Acc: 0.2934 | Train F1: 0.2828 | Val Loss: 1.3843 | Val Acc: 0.2928 | Val F1: 0.1326\n"
     ]
    },
    {
     "name": "stderr",
     "output_type": "stream",
     "text": [
      "100%|██████████| 649/649 [05:08<00:00,  2.10it/s]\n",
      "Training: 100%|██████████| 649/649 [13:53<00:00,  1.28s/it]\n",
      "Validating: 100%|██████████| 163/163 [01:16<00:00,  2.13it/s]\n"
     ]
    },
    {
     "name": "stdout",
     "output_type": "stream",
     "text": [
      "Epoch 02 | Train Loss: 1.1803 | Train Acc: 0.2961 | Train F1: 0.2892 | Val Loss: 1.3871 | Val Acc: 0.2928 | Val F1: 0.1406\n"
     ]
    },
    {
     "name": "stderr",
     "output_type": "stream",
     "text": [
      "100%|██████████| 649/649 [05:05<00:00,  2.12it/s]\n",
      "Training: 100%|██████████| 649/649 [13:49<00:00,  1.28s/it]\n",
      "Validating: 100%|██████████| 163/163 [01:17<00:00,  2.11it/s]\n"
     ]
    },
    {
     "name": "stdout",
     "output_type": "stream",
     "text": [
      "Epoch 03 | Train Loss: 1.1807 | Train Acc: 0.3079 | Train F1: 0.2923 | Val Loss: 1.3814 | Val Acc: 0.3213 | Val F1: 0.1562\n"
     ]
    },
    {
     "name": "stderr",
     "output_type": "stream",
     "text": [
      "100%|██████████| 649/649 [05:05<00:00,  2.13it/s]\n",
      "Training: 100%|██████████| 649/649 [13:45<00:00,  1.27s/it]\n",
      "Validating: 100%|██████████| 163/163 [01:15<00:00,  2.15it/s]\n"
     ]
    },
    {
     "name": "stdout",
     "output_type": "stream",
     "text": [
      "Epoch 04 | Train Loss: 1.1820 | Train Acc: 0.3102 | Train F1: 0.2957 | Val Loss: 1.3827 | Val Acc: 0.2928 | Val F1: 0.1326\n"
     ]
    },
    {
     "name": "stderr",
     "output_type": "stream",
     "text": [
      "100%|██████████| 649/649 [05:02<00:00,  2.15it/s]\n",
      "Training: 100%|██████████| 649/649 [13:46<00:00,  1.27s/it]\n",
      "Validating: 100%|██████████| 163/163 [01:16<00:00,  2.13it/s]\n"
     ]
    },
    {
     "name": "stdout",
     "output_type": "stream",
     "text": [
      "Epoch 05 | Train Loss: 1.1808 | Train Acc: 0.3091 | Train F1: 0.2948 | Val Loss: 1.3808 | Val Acc: 0.2897 | Val F1: 0.1355\n"
     ]
    },
    {
     "name": "stderr",
     "output_type": "stream",
     "text": [
      "100%|██████████| 649/649 [05:05<00:00,  2.12it/s]\n",
      "Training: 100%|██████████| 649/649 [13:46<00:00,  1.27s/it]\n",
      "Validating: 100%|██████████| 163/163 [01:16<00:00,  2.13it/s]\n"
     ]
    },
    {
     "name": "stdout",
     "output_type": "stream",
     "text": [
      "Epoch 06 | Train Loss: 1.1817 | Train Acc: 0.3048 | Train F1: 0.2918 | Val Loss: 1.3802 | Val Acc: 0.3213 | Val F1: 0.1562\n"
     ]
    },
    {
     "name": "stderr",
     "output_type": "stream",
     "text": [
      "100%|██████████| 649/649 [05:02<00:00,  2.14it/s]\n",
      "Training: 100%|██████████| 649/649 [13:42<00:00,  1.27s/it]\n",
      "Validating: 100%|██████████| 163/163 [01:16<00:00,  2.13it/s]\n"
     ]
    },
    {
     "name": "stdout",
     "output_type": "stream",
     "text": [
      "Epoch 07 | Train Loss: 1.1811 | Train Acc: 0.3035 | Train F1: 0.2868 | Val Loss: 1.3805 | Val Acc: 0.3213 | Val F1: 0.1562\n"
     ]
    },
    {
     "name": "stderr",
     "output_type": "stream",
     "text": [
      "100%|██████████| 649/649 [05:00<00:00,  2.16it/s]\n",
      "Training: 100%|██████████| 649/649 [13:41<00:00,  1.27s/it]\n",
      "Validating: 100%|██████████| 163/163 [01:16<00:00,  2.13it/s]\n"
     ]
    },
    {
     "name": "stdout",
     "output_type": "stream",
     "text": [
      "Epoch 08 | Train Loss: 1.1815 | Train Acc: 0.3054 | Train F1: 0.2919 | Val Loss: 1.3804 | Val Acc: 0.3213 | Val F1: 0.1562\n"
     ]
    },
    {
     "name": "stderr",
     "output_type": "stream",
     "text": [
      "100%|██████████| 649/649 [04:58<00:00,  2.17it/s]\n",
      "Training: 100%|██████████| 649/649 [13:32<00:00,  1.25s/it]\n",
      "Validating: 100%|██████████| 163/163 [01:17<00:00,  2.11it/s]\n"
     ]
    },
    {
     "name": "stdout",
     "output_type": "stream",
     "text": [
      "Epoch 09 | Train Loss: 1.1810 | Train Acc: 0.3015 | Train F1: 0.2857 | Val Loss: 1.3818 | Val Acc: 0.2928 | Val F1: 0.1326\n"
     ]
    },
    {
     "name": "stderr",
     "output_type": "stream",
     "text": [
      "100%|██████████| 649/649 [04:56<00:00,  2.19it/s]\n",
      "Training: 100%|██████████| 649/649 [13:22<00:00,  1.24s/it]\n",
      "Validating: 100%|██████████| 163/163 [01:14<00:00,  2.19it/s]\n"
     ]
    },
    {
     "name": "stdout",
     "output_type": "stream",
     "text": [
      "Epoch 10 | Train Loss: 1.1820 | Train Acc: 0.3060 | Train F1: 0.2770 | Val Loss: 1.3808 | Val Acc: 0.3074 | Val F1: 0.1446\n"
     ]
    },
    {
     "name": "stderr",
     "output_type": "stream",
     "text": [
      "100%|██████████| 649/649 [04:54<00:00,  2.20it/s]"
     ]
    },
    {
     "name": "stdout",
     "output_type": "stream",
     "text": [
      "Prototype for class 1 (Very mild Dementia): [ 1.0799805e-05  2.4797477e-02 -3.5426719e-04 -1.0487450e-06] ...\n",
      "Prototype for class 0 (Non Demented): [ 1.0692320e-05  2.4659477e-02 -3.5113384e-04 -1.0357679e-06] ...\n",
      "Prototype for class 2 (Mild Dementia): [ 1.0807049e-05  2.4786530e-02 -3.5426201e-04 -1.0491033e-06] ...\n",
      "Prototype for class 3 (Moderate Dementia): [ 1.07539445e-05  2.48049926e-02 -3.53882031e-04 -1.04562844e-06] ...\n"
     ]
    },
    {
     "name": "stderr",
     "output_type": "stream",
     "text": [
      "\n"
     ]
    }
   ],
   "source": [
    "def train_joint(model, dataloader, optimizer, criterion_cls, criterion_cont, device):  # Define joint training function\n",
    "    model.train()  # Set model to training mode\n",
    "    total_loss = 0.0  # Initialize total loss\n",
    "    correct = 0  # Initialize correct predictions count\n",
    "    all_preds = []  # Initialize list for predictions\n",
    "    all_labels = []  # Initialize list for true labels\n",
    "\n",
    "    for patches, labels in tqdm(dataloader, desc=\"Training\"):  # Iterate through dataloader with progress bar\n",
    "        patches, labels = patches.to(device), labels.to(device)  # Move data to device\n",
    "        noisy = patches + .3 * torch.randn_like(patches)  # Add Gaussian noise to patches\n",
    "\n",
    "        logits_clean, bag_rep_clean = model(patches)  # Forward pass on clean patches\n",
    "        logits_noisy, bag_rep_noisy = model(noisy)  # Forward pass on noisy patches\n",
    "\n",
    "        loss_cls = criterion_cls(logits_clean, labels)  # Compute classification loss\n",
    "        loss_cont = criterion_cont(bag_rep_clean, labels, prototypes)  # Compute contrastive loss\n",
    "\n",
    "        loss = loss_cls + 0.1 * loss_cont  # Combine losses with weighting\n",
    "        optimizer.zero_grad()  # Clear gradients\n",
    "        loss.backward()  # Compute gradients\n",
    "        optimizer.step()  # Update model parameters\n",
    "\n",
    "        total_loss += loss.item()  # Accumulate loss\n",
    "        preds = torch.argmax(logits_clean, dim=1)  # Get predicted classes\n",
    "        correct += (preds == labels).sum().item()  # Count correct predictions\n",
    "        all_preds.extend(preds.cpu().numpy())  # Collect predictions\n",
    "        all_labels.extend(labels.cpu().numpy())  # Collect true labels\n",
    "\n",
    "    avg_loss = total_loss / len(dataloader)  # Compute average loss\n",
    "    accuracy = accuracy_score(all_labels, all_preds)  # Compute accuracy\n",
    "    f1 = f1_score(all_labels, all_preds, average='weighted')  # Compute weighted F1 score\n",
    "    return avg_loss, accuracy, f1, all_preds, all_labels  # Return metrics and predictions\n",
    "\n",
    "def validate(model, dataloader, criterion_cls, device):  # Define validation function\n",
    "    model.eval()  # Set model to evaluation mode\n",
    "    total_loss = 0.0  # Initialize total loss\n",
    "    all_preds = []  # Initialize list for predictions\n",
    "    all_labels = []  # Initialize list for true labels\n",
    "\n",
    "    with torch.no_grad():  # Disable gradient computation\n",
    "        for patches, labels in tqdm(dataloader, desc=\"Validating\"):  # Iterate through dataloader with progress bar\n",
    "            patches, labels = patches.to(device), labels.to(device)  # Move data to device\n",
    "            logits, _ = model(patches)  # Forward pass\n",
    "            loss = criterion_cls(logits, labels)  # Compute classification loss\n",
    "            total_loss += loss.item()  # Accumulate loss\n",
    "            preds = torch.argmax(logits, dim=1)  # Get predicted classes\n",
    "            all_preds.extend(preds.cpu().numpy())  # Collect predictions\n",
    "            all_labels.extend(labels.cpu().numpy())  # Collect true labels\n",
    "\n",
    "    avg_loss = total_loss / len(dataloader)  # Compute average loss\n",
    "    accuracy = accuracy_score(all_labels, all_preds)  # Compute accuracy\n",
    "    f1 = f1_score(all_labels, all_preds, average='weighted')  # Compute weighted F1 score\n",
    "    return avg_loss, accuracy, f1, all_preds, all_labels  # Return metrics and predictions\n",
    "\n",
    "def plot_confusion_matrix(labels, preds, class_names, epoch):  # Define function to plot confusion matrix\n",
    "    cm = confusion_matrix(labels, preds)  # Compute confusion matrix\n",
    "    plt.figure(figsize=(8, 6))  # Create figure with size 8x6\n",
    "    sns.heatmap(cm, annot=True, fmt='d', cmap='Blues', xticklabels=class_names, yticklabels=class_names)  # Plot heatmap\n",
    "    plt.title(f'Confusion Matrix (Epoch {epoch+1})')  # Set title with epoch number\n",
    "    plt.xlabel('Predicted')  # Label x-axis\n",
    "    plt.ylabel('True')  # Label y-axis\n",
    "    plt.savefig(f'confusion_matrix_epoch_{epoch+1}.png')  # Save plot to file\n",
    "    plt.close()  # Close figure\n",
    "\n",
    "def plot_validation_curves(train_accs, val_accs, train_f1s, val_f1s, train_losses, val_losses):  # Define function to plot validation curves\n",
    "    epochs = range(1, len(train_accs) + 1)  # Create range of epochs\n",
    "    plt.figure(figsize=(12, 4))  # Create figure with size 12x4\n",
    "\n",
    "    plt.subplot(1, 3, 1)  # Create first subplot for accuracy\n",
    "    plt.plot(epochs, train_accs, 'b-', label='Train Accuracy')  # Plot training accuracy\n",
    "    plt.plot(epochs, val_accs, 'r-', label='Validation Accuracy')  # Plot validation accuracy\n",
    "    plt.title('Accuracy Curve')  # Set title\n",
    "    plt.xlabel('Epoch')  # Label x-axis\n",
    "    plt.ylabel('Accuracy')  # Label y-axis\n",
    "    plt.legend()  # Show legend\n",
    "    plt.grid(True)  # Enable grid\n",
    "\n",
    "    plt.subplot(1, 3, 2)  # Create second subplot for F1 score\n",
    "    plt.plot(epochs, train_f1s, 'b-', label='Train F1 Score')  # Plot training F1 score\n",
    "    plt.plot(epochs, val_f1s, 'r-', label='Validation F1 Score')  # Plot validation F1 score\n",
    "    plt.title('F1 Score Curve')  # Set title\n",
    "    plt.xlabel('Epoch')  # Label x-axis\n",
    "    plt.ylabel('F1 Score')  # Label y-axis\n",
    "    plt.legend()  # Show legend\n",
    "    plt.grid(True)  # Enable grid\n",
    "\n",
    "    plt.subplot(1, 3, 3)  # Create third subplot for loss\n",
    "    plt.plot(epochs, train_losses, 'b-', label='Train Loss')  # Plot training loss\n",
    "    plt.plot(epochs, val_losses, 'r-', label='Validation Loss')  # Plot validation loss\n",
    "    plt.title('Loss Curve')  # Set title\n",
    "    plt.xlabel('Epoch')  # Label x-axis\n",
    "    plt.ylabel('Loss')  # Label y-axis\n",
    "    plt.legend()  # Show legend\n",
    "    plt.grid(True)  # Enable grid\n",
    "\n",
    "    plt.tight_layout()  # Adjust layout to prevent overlap\n",
    "    plt.savefig('validation_curves.png')  # Save plot to file\n",
    "    plt.close()  # Close figure\n",
    "\n",
    "if __name__ == \"__main__\":  # Main execution block\n",
    "    device = torch.device(\"cuda\" if torch.cuda.is_available() else \"cpu\")  # Select GPU if available, else CPU\n",
    "\n",
    "    transform = transforms.Compose([  # Define image transformations\n",
    "        transforms.Resize((128, 128)),  # Resize images to 128x128\n",
    "        transforms.ToTensor(),  # Convert images to tensors\n",
    "    ])\n",
    "\n",
    "    dataset = OASIS2DDataset(DATA_ROOT, class_names, transform=transform)  # Create dataset instance\n",
    "    train_size = int(0.8 * len(dataset))  # Calculate training set size (80%)\n",
    "    test_size = len(dataset) - train_size  # Calculate test set size (20%)\n",
    "    train_set, test_set = torch.utils.data.random_split(dataset, [train_size, test_size])  # Split dataset\n",
    "\n",
    "    # Compute class counts in training set\n",
    "    from collections import Counter\n",
    "    train_indices = train_set.indices\n",
    "    train_labels = [dataset.labels[i] for i in train_indices]\n",
    "    class_counts = Counter(train_labels)\n",
    "    num_classes = len(class_names)\n",
    "    counts = [class_counts.get(i, 0) for i in range(num_classes)]\n",
    "    max_count = max(counts)\n",
    "    weights = [max_count / count if count > 0 else 0 for count in counts]\n",
    "    weights_tensor = torch.tensor(weights, dtype=torch.float).to(device)\n",
    "\n",
    "    train_loader = DataLoader(train_set, batch_size=8, shuffle=True, num_workers=2, pin_memory=True)  # Create training DataLoader\n",
    "    test_loader = DataLoader(test_set, batch_size=8, shuffle=False, num_workers=2, pin_memory=True)  # Create test DataLoader\n",
    "\n",
    "    model = QNNMILClassifier(n_qubits=4, num_classes=num_classes).to(device)  # Initialize model and move to device\n",
    "\n",
    "    optimizer = torch.optim.Adam(model.parameters(), lr=0.01)  # Initialize Adam optimizer\n",
    "    loss_fn = nn.CrossEntropyLoss(weight=weights_tensor)  # Initialize cross-entropy loss with class weights\n",
    "    contrast_fn = ContrastiveLoss()  # Initialize contrastive loss\n",
    "\n",
    "    print(\"\\n▶️  Training with contrastive + classification loss...\\n\")  # Print training start message\n",
    "    num_epochs = 10  # Set number of epochs\n",
    "    train_accs, val_accs = [], []  # Initialize lists for accuracies\n",
    "    train_f1s, val_f1s = [], []  # Initialize lists for F1 scores\n",
    "    train_losses, val_losses = [], []  # Initialize lists for losses\n",
    "\n",
    "    for epoch in range(num_epochs):  # Iterate through epochs\n",
    "        # Compute prototypes at the beginning of each epoch\n",
    "        prototypes = compute_prototypes(model, train_loader, device)\n",
    "\n",
    "        train_loss, train_acc, train_f1, train_preds, train_labels = train_joint(\n",
    "            model, train_loader, optimizer, loss_fn, contrast_fn, device\n",
    "        )  # Train model for one epoch\n",
    "        val_loss, val_acc, val_f1, val_preds, val_labels = validate(\n",
    "            model, test_loader, loss_fn, device\n",
    "        )  # Validate model\n",
    "\n",
    "        train_accs.append(train_acc)  # Store training accuracy\n",
    "        val_accs.append(val_acc)  # Store validation accuracy\n",
    "        train_f1s.append(train_f1)  # Store training F1 score\n",
    "        val_f1s.append(val_f1)  # Store validation F1 score\n",
    "        train_losses.append(train_loss)  # Store training loss\n",
    "        val_losses.append(val_loss)  # Store validation loss\n",
    "\n",
    "        print(f\"Epoch {epoch+1:02d} | \"\n",
    "              f\"Train Loss: {train_loss:.4f} | Train Acc: {train_acc:.4f} | Train F1: {train_f1:.4f} | \"\n",
    "              f\"Val Loss: {val_loss:.4f} | Val Acc: {val_acc:.4f} | Val F1: {val_f1:.4f}\")  # Print epoch metrics\n",
    "\n",
    "        plot_confusion_matrix(val_labels, val_preds, class_names, epoch)  # Plot confusion matrix for validation\n",
    "\n",
    "    plot_validation_curves(train_accs, val_accs, train_f1s, val_f1s, train_losses, val_losses)  # Plot validation curves\n",
    "\n",
    "    prototypes = compute_prototypes(model, train_loader, device)  # Compute prototypes on training set\n",
    "    for cls_idx, proto in prototypes.items():  # Iterate through prototypes\n",
    "        print(f\"Prototype for class {cls_idx} ({class_names[cls_idx]}): {proto.numpy()[:5]} ...\")  # Print prototype features"
   ]
  },
  {
   "cell_type": "code",
   "execution_count": null,
   "id": "c894e26d",
   "metadata": {
    "id": "eBQU3iKY3Ofc",
    "papermill": {
     "duration": 0.741651,
     "end_time": "2025-06-24T00:42:26.044237",
     "exception": false,
     "start_time": "2025-06-24T00:42:25.302586",
     "status": "completed"
    },
    "tags": []
   },
   "outputs": [],
   "source": []
  }
 ],
 "metadata": {
  "colab": {
   "provenance": []
  },
  "kaggle": {
   "accelerator": "nvidiaTeslaT4",
   "dataSources": [
    {
     "datasetId": 3419493,
     "sourceId": 5962731,
     "sourceType": "datasetVersion"
    }
   ],
   "dockerImageVersionId": 31041,
   "isGpuEnabled": true,
   "isInternetEnabled": true,
   "language": "python",
   "sourceType": "notebook"
  },
  "kernelspec": {
   "display_name": "Python 3",
   "language": "python",
   "name": "python3"
  },
  "language_info": {
   "codemirror_mode": {
    "name": "ipython",
    "version": 3
   },
   "file_extension": ".py",
   "mimetype": "text/x-python",
   "name": "python",
   "nbconvert_exporter": "python",
   "pygments_lexer": "ipython3",
   "version": "3.11.11"
  },
  "papermill": {
   "default_parameters": {},
   "duration": 12383.841943,
   "end_time": "2025-06-24T00:42:29.491909",
   "environment_variables": {},
   "exception": null,
   "input_path": "__notebook__.ipynb",
   "output_path": "__notebook__.ipynb",
   "parameters": {},
   "start_time": "2025-06-23T21:16:05.649966",
   "version": "2.6.0"
  }
 },
 "nbformat": 4,
 "nbformat_minor": 5
}
