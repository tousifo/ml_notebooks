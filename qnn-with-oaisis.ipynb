{
 "cells": [
  {
   "cell_type": "markdown",
   "id": "dcf6ecac",
   "metadata": {
    "papermill": {
     "duration": 0.00261,
     "end_time": "2025-06-02T08:15:47.322524",
     "exception": false,
     "start_time": "2025-06-02T08:15:47.319914",
     "status": "completed"
    },
    "tags": []
   },
   "source": [
    "# Preprocess"
   ]
  },
  {
   "cell_type": "code",
   "execution_count": 1,
   "id": "4a5003e9",
   "metadata": {
    "_cell_guid": "b1076dfc-b9ad-4769-8c92-a6c4dae69d19",
    "_uuid": "8f2839f25d086af736a60e9eeb907d3b93b6e0e5",
    "execution": {
     "iopub.execute_input": "2025-06-02T08:15:47.328360Z",
     "iopub.status.busy": "2025-06-02T08:15:47.327797Z",
     "iopub.status.idle": "2025-06-02T08:16:16.823807Z",
     "shell.execute_reply": "2025-06-02T08:16:16.822885Z"
    },
    "papermill": {
     "duration": 29.500286,
     "end_time": "2025-06-02T08:16:16.825092",
     "exception": false,
     "start_time": "2025-06-02T08:15:47.324806",
     "status": "completed"
    },
    "tags": []
   },
   "outputs": [
    {
     "name": "stdout",
     "output_type": "stream",
     "text": [
      "\u001b[2K     \u001b[90m━━━━━━━━━━━━━━━━━━━━━━━━━━━━━━━━━━━━━━━━\u001b[0m \u001b[32m56.1/56.1 kB\u001b[0m \u001b[31m2.6 MB/s\u001b[0m eta \u001b[36m0:00:00\u001b[0m\r\n",
      "\u001b[2K   \u001b[90m━━━━━━━━━━━━━━━━━━━━━━━━━━━━━━━━━━━━━━━━\u001b[0m \u001b[32m1.9/1.9 MB\u001b[0m \u001b[31m28.9 MB/s\u001b[0m eta \u001b[36m0:00:00\u001b[0m\r\n",
      "\u001b[2K   \u001b[90m━━━━━━━━━━━━━━━━━━━━━━━━━━━━━━━━━━━━━━━━\u001b[0m \u001b[32m77.5/77.5 MB\u001b[0m \u001b[31m23.0 MB/s\u001b[0m eta \u001b[36m0:00:00\u001b[0m\r\n",
      "\u001b[2K   \u001b[90m━━━━━━━━━━━━━━━━━━━━━━━━━━━━━━━━━━━━━━━━\u001b[0m \u001b[32m2.3/2.3 MB\u001b[0m \u001b[31m76.8 MB/s\u001b[0m eta \u001b[36m0:00:00\u001b[0m\r\n",
      "\u001b[2K   \u001b[90m━━━━━━━━━━━━━━━━━━━━━━━━━━━━━━━━━━━━━━━━\u001b[0m \u001b[32m2.5/2.5 MB\u001b[0m \u001b[31m83.0 MB/s\u001b[0m eta \u001b[36m0:00:00\u001b[0m\r\n",
      "\u001b[2K   \u001b[90m━━━━━━━━━━━━━━━━━━━━━━━━━━━━━━━━━━━━━━━━\u001b[0m \u001b[32m930.8/930.8 kB\u001b[0m \u001b[31m51.1 MB/s\u001b[0m eta \u001b[36m0:00:00\u001b[0m\r\n",
      "\u001b[2K   \u001b[90m━━━━━━━━━━━━━━━━━━━━━━━━━━━━━━━━━━━━━━━━\u001b[0m \u001b[32m2.1/2.1 MB\u001b[0m \u001b[31m83.4 MB/s\u001b[0m eta \u001b[36m0:00:00\u001b[0m\r\n",
      "\u001b[2K   \u001b[90m━━━━━━━━━━━━━━━━━━━━━━━━━━━━━━━━━━━━━━━━\u001b[0m \u001b[32m8.6/8.6 MB\u001b[0m \u001b[31m98.3 MB/s\u001b[0m eta \u001b[36m0:00:00\u001b[0m\r\n",
      "\u001b[2K   \u001b[90m━━━━━━━━━━━━━━━━━━━━━━━━━━━━━━━━━━━━━━━━\u001b[0m \u001b[32m167.9/167.9 kB\u001b[0m \u001b[31m10.9 MB/s\u001b[0m eta \u001b[36m0:00:00\u001b[0m\r\n",
      "\u001b[?25h\u001b[31mERROR: pip's dependency resolver does not currently take into account all the packages that are installed. This behaviour is the source of the following dependency conflicts.\r\n",
      "dopamine-rl 4.1.2 requires gymnasium>=1.0.0, but you have gymnasium 0.29.0 which is incompatible.\r\n",
      "orbax-checkpoint 0.11.10 requires jax>=0.5.0, but you have jax 0.4.28 which is incompatible.\r\n",
      "flax 0.10.5 requires jax>=0.5.1, but you have jax 0.4.28 which is incompatible.\u001b[0m\u001b[31m\r\n",
      "\u001b[0m✔ Data root: /kaggle/input/imagesoasis/Data\n"
     ]
    }
   ],
   "source": [
    "# Install compatible versions of JAX, jaxlib, and PennyLane dependencies\n",
    "!pip install jax==0.4.28 jaxlib==0.4.28 pennylane pennylane-lightning --quiet\n",
    "\n",
    "import os  # Import os for file system operations\n",
    "import random  # Import random for generating random numbers\n",
    "import torch  # Import PyTorch for tensor operations\n",
    "import torch.nn as nn  # Import neural network modules from PyTorch\n",
    "import torch.nn.functional as F  # Import functional operations from PyTorch\n",
    "from torch.utils.data import Dataset, DataLoader  # Import Dataset and DataLoader for data handling\n",
    "from torchvision import transforms  # Import transforms for image preprocessing\n",
    "from PIL import Image  # Import PIL for image loading\n",
    "import pennylane as qml  # Import PennyLane for quantum computing\n",
    "import numpy as np  # Import NumPy for numerical operations\n",
    "from tqdm import tqdm  # Import tqdm for progress bars\n",
    "from sklearn.metrics import accuracy_score, f1_score, confusion_matrix  # Import metrics for evaluation\n",
    "import matplotlib.pyplot as plt  # Import matplotlib for plotting\n",
    "import seaborn as sns  # Import seaborn for enhanced visualizations\n",
    "\n",
    "DATA_ROOT = \"/kaggle/input/imagesoasis/Data\"  # Define path to OASIS dataset\n",
    "WORKING_DIR = \"/kaggle/working/\"  # Define working directory\n",
    "\n",
    "LABEL_MAP = {\n",
    "    \"Non Demented\": 0,  # Map \"Non Demented\" to label 0\n",
    "    \"Very mild Dementia\": 1,  # Map \"Very mild Dementia\" to label 1\n",
    "    \"Mild Dementia\": 2,  # Map \"Mild Dementia\" to label 2\n",
    "    \"Moderate Dementia\": 3,  # Map \"Moderate Dementia\" to label 3\n",
    "}\n",
    "\n",
    "class_names = list(LABEL_MAP.keys())  # Create list of class names from LABEL_MAP keys\n",
    "\n",
    "if not os.path.exists(DATA_ROOT):  # Check if dataset directory exists\n",
    "    raise RuntimeError(f\"Dataset directory not found: {DATA_ROOT}\")  # Raise error if directory not found\n",
    "print(\"✔ Data root:\", DATA_ROOT)  # Print the data root directory"
   ]
  },
  {
   "cell_type": "markdown",
   "id": "d5630c51",
   "metadata": {
    "papermill": {
     "duration": 0.002895,
     "end_time": "2025-06-02T08:16:16.831450",
     "exception": false,
     "start_time": "2025-06-02T08:16:16.828555",
     "status": "completed"
    },
    "tags": []
   },
   "source": [
    "# Dataset"
   ]
  },
  {
   "cell_type": "code",
   "execution_count": 2,
   "id": "3ab97c2c",
   "metadata": {
    "execution": {
     "iopub.execute_input": "2025-06-02T08:16:16.838974Z",
     "iopub.status.busy": "2025-06-02T08:16:16.838567Z",
     "iopub.status.idle": "2025-06-02T08:16:16.846077Z",
     "shell.execute_reply": "2025-06-02T08:16:16.845378Z"
    },
    "papermill": {
     "duration": 0.012655,
     "end_time": "2025-06-02T08:16:16.847141",
     "exception": false,
     "start_time": "2025-06-02T08:16:16.834486",
     "status": "completed"
    },
    "tags": []
   },
   "outputs": [],
   "source": [
    "class OASIS2DDataset(Dataset):  # Define custom Dataset class for OASIS data\n",
    "    def __init__(self, root_dir, class_names, transform=None, noise_std=0.05):  # Initialize with root directory, class names, transforms, and noise level\n",
    "        self.data = []  # Initialize empty list for image paths\n",
    "        self.labels = []  # Initialize empty list for labels\n",
    "        self.transform = transform  # Store transform function\n",
    "        self.noise_std = noise_std  # Store standard deviation for Gaussian noise\n",
    "\n",
    "        for class_name in class_names:  # Iterate through each class\n",
    "            class_dir = os.path.join(root_dir, class_name)  # Get path to class subdirectory\n",
    "            label = LABEL_MAP[class_name]  # Get integer label for class\n",
    "            for fname in os.listdir(class_dir):  # Iterate through files in class directory\n",
    "                if fname.lower().endswith(\".jpg\"):  # Check if file is a JPEG\n",
    "                    self.data.append(os.path.join(class_dir, fname))  # Add image path to data list\n",
    "                    self.labels.append(label)  # Add corresponding label to labels list\n",
    "\n",
    "    def __len__(self):  # Define length method for dataset\n",
    "        return len(self.data)  # Return number of images\n",
    "\n",
    "    def __getitem__(self, idx):  # Define method to get item by index\n",
    "        img_path = self.data[idx]  # Get image path at index\n",
    "        label = self.labels[idx]  # Get label at index\n",
    "\n",
    "        image = Image.open(img_path).convert(\"L\")  # Load image as grayscale\n",
    "        if self.transform:  # Check if transform is provided\n",
    "            image = self.transform(image)  # Apply transform to image\n",
    "\n",
    "        noisy_image = image + self.noise_std * torch.randn_like(image)  # Add Gaussian noise to image\n",
    "\n",
    "        patches = self.extract_patches(noisy_image)  # Extract random patches from noisy image\n",
    "        return torch.stack(patches), torch.tensor(label, dtype=torch.long)  # Return stacked patches and label\n",
    "\n",
    "    def extract_patches(self, image, patch_size=32, num_patches=5):  # Define method to extract patches\n",
    "        _, H, W = image.shape  # Get image dimensions\n",
    "        patches = []  # Initialize empty list for patches\n",
    "        for _ in range(num_patches):  # Loop to extract specified number of patches\n",
    "            top = random.randint(0, H - patch_size)  # Random top coordinate\n",
    "            left = random.randint(0, W - patch_size)  # Random left coordinate\n",
    "            patch = image[:, top : top + patch_size, left : left + patch_size]  # Crop patch from image\n",
    "            patches.append(patch)  # Add patch to list\n",
    "        return patches  # Return list of patches"
   ]
  },
  {
   "cell_type": "markdown",
   "id": "5424139c",
   "metadata": {
    "papermill": {
     "duration": 0.002817,
     "end_time": "2025-06-02T08:16:16.852935",
     "exception": false,
     "start_time": "2025-06-02T08:16:16.850118",
     "status": "completed"
    },
    "tags": []
   },
   "source": [
    "# Model"
   ]
  },
  {
   "cell_type": "code",
   "execution_count": 3,
   "id": "16b05ab3",
   "metadata": {
    "execution": {
     "iopub.execute_input": "2025-06-02T08:16:16.860096Z",
     "iopub.status.busy": "2025-06-02T08:16:16.859888Z",
     "iopub.status.idle": "2025-06-02T08:16:17.094994Z",
     "shell.execute_reply": "2025-06-02T08:16:17.094060Z"
    },
    "papermill": {
     "duration": 0.24028,
     "end_time": "2025-06-02T08:16:17.096314",
     "exception": false,
     "start_time": "2025-06-02T08:16:16.856034",
     "status": "completed"
    },
    "tags": []
   },
   "outputs": [],
   "source": [
    "def create_qnode(n_qubits=4):  # Define function to create quantum node\n",
    "    dev = qml.device(\"default.qubit\", wires=n_qubits)  # Initialize quantum device with specified qubits\n",
    "\n",
    "    @qml.qnode(dev, interface=\"torch\", diff_method=\"backprop\")  # Define quantum node with PyTorch interface\n",
    "    def qnode(inputs, weights):  # Define quantum circuit function\n",
    "        qml.templates.AngleEmbedding(inputs, wires=range(n_qubits), rotation=\"Y\")  # Embed inputs as Y rotations\n",
    "        qml.templates.BasicEntanglerLayers(weights, wires=range(n_qubits))  # Apply entangling layer\n",
    "        return [qml.expval(qml.PauliZ(i)) for i in range(n_qubits)]  # Return PauliZ expectations for each qubit\n",
    "\n",
    "    return qnode  # Return quantum node function\n",
    "\n",
    "class QNNMILClassifier(nn.Module):  # Define quantum neural network classifier\n",
    "    def __init__(self, n_qubits=4, num_classes=4):  # Initialize with qubits and number of classes\n",
    "        super().__init__()  # Call parent class initializer\n",
    "        self.n_qubits = n_qubits  # Store number of qubits\n",
    "\n",
    "        self.qnode = create_qnode(n_qubits)  # Create quantum node\n",
    "        weight_shapes = {\"weights\": (1, n_qubits)}  # Define shape for quantum weights\n",
    "        self.q_layer = qml.qnn.TorchLayer(self.qnode, weight_shapes)  # Create quantum layer with PyTorch interface\n",
    "\n",
    "        self.attention = nn.Sequential(  # Define attention network\n",
    "            nn.Linear(n_qubits, 8),  # Linear layer from qubits to 8 units\n",
    "            nn.Tanh(),  # Apply Tanh activation\n",
    "            nn.Linear(8, 1),  # Linear layer to output attention score\n",
    "        )\n",
    "\n",
    "        self.classifier = nn.Linear(n_qubits, num_classes)  # Define final classifier layer\n",
    "\n",
    "    def forward(self, patches):  # Define forward pass\n",
    "        B, N, C, H, W = patches.shape  # Get batch size, number of patches, channels, height, width\n",
    "        outputs = []  # Initialize list for quantum outputs\n",
    "\n",
    "        for i in range(N):  # Iterate through patches\n",
    "            patch = patches[:, i].reshape(B, -1)[:, : self.n_qubits]  # Flatten patch and slice to n_qubits\n",
    "            q_out = self.q_layer(patch)  # Pass patch through quantum layer\n",
    "            outputs.append(q_out)  # Append quantum output\n",
    "\n",
    "        patch_outputs = torch.stack(outputs, dim=1)  # Stack outputs to (B, N, n_qubits)\n",
    "\n",
    "        attn_logits = self.attention(patch_outputs)  # Compute attention logits\n",
    "        attn_weights = F.softmax(attn_logits.squeeze(-1), dim=1)  # Apply softmax to get attention weights\n",
    "\n",
    "        bag_rep = torch.sum(attn_weights.unsqueeze(-1) * patch_outputs, dim=1)  # Compute weighted sum of patch outputs\n",
    "\n",
    "        return self.classifier(bag_rep)  # Return classification logits\n",
    "\n",
    "class ContrastiveLoss(nn.Module):  # Define contrastive loss class\n",
    "    def __init__(self, temperature=0.5):  # Initialize with temperature parameter\n",
    "        super().__init__()  # Call parent class initializer\n",
    "        self.temperature = temperature  # Store temperature value\n",
    "\n",
    "    def forward(self, z1, z2):  # Define forward pass for loss\n",
    "        z1 = F.normalize(z1, dim=1)  # Normalize first input tensor\n",
    "        z2 = F.normalize(z2, dim=1)  # Normalize second input tensor\n",
    "        sim = torch.matmul(z1, z2.T) / self.temperature  # Compute similarity matrix\n",
    "        labels = torch.arange(z1.size(0)).to(z1.device)  # Create labels for contrastive loss\n",
    "        return F.cross_entropy(sim, labels)  # Return cross-entropy loss"
   ]
  },
  {
   "cell_type": "markdown",
   "id": "3d0542fb",
   "metadata": {
    "papermill": {
     "duration": 0.00316,
     "end_time": "2025-06-02T08:16:17.103049",
     "exception": false,
     "start_time": "2025-06-02T08:16:17.099889",
     "status": "completed"
    },
    "tags": []
   },
   "source": [
    "# Train_eval"
   ]
  },
  {
   "cell_type": "code",
   "execution_count": 4,
   "id": "0b3bb480",
   "metadata": {
    "execution": {
     "iopub.execute_input": "2025-06-02T08:16:17.110546Z",
     "iopub.status.busy": "2025-06-02T08:16:17.110281Z",
     "iopub.status.idle": "2025-06-02T12:19:23.950489Z",
     "shell.execute_reply": "2025-06-02T12:19:23.949562Z"
    },
    "papermill": {
     "duration": 14590.816174,
     "end_time": "2025-06-02T12:19:27.922465",
     "exception": false,
     "start_time": "2025-06-02T08:16:17.106291",
     "status": "completed"
    },
    "tags": []
   },
   "outputs": [
    {
     "name": "stdout",
     "output_type": "stream",
     "text": [
      "\n",
      "▶️  Training with contrastive + classification loss...\n",
      "\n"
     ]
    },
    {
     "name": "stderr",
     "output_type": "stream",
     "text": [
      "Training: 100%|██████████| 8644/8644 [22:04<00:00,  6.53it/s]\n",
      "Validating: 100%|██████████| 2161/2161 [01:48<00:00, 19.91it/s]\n"
     ]
    },
    {
     "name": "stdout",
     "output_type": "stream",
     "text": [
      "Epoch 01 | Train Loss: 0.8971 | Train Acc: 0.7761 | Train F1: 0.6803 | Val Loss: 0.6809 | Val Acc: 0.7775 | Val F1: 0.6801\n"
     ]
    },
    {
     "name": "stderr",
     "output_type": "stream",
     "text": [
      "Training: 100%|██████████| 8644/8644 [21:36<00:00,  6.67it/s]\n",
      "Validating: 100%|██████████| 2161/2161 [01:44<00:00, 20.63it/s]\n"
     ]
    },
    {
     "name": "stdout",
     "output_type": "stream",
     "text": [
      "Epoch 02 | Train Loss: 0.8925 | Train Acc: 0.7778 | Train F1: 0.6805 | Val Loss: 0.6818 | Val Acc: 0.7775 | Val F1: 0.6801\n"
     ]
    },
    {
     "name": "stderr",
     "output_type": "stream",
     "text": [
      "Training: 100%|██████████| 8644/8644 [21:37<00:00,  6.66it/s]\n",
      "Validating: 100%|██████████| 2161/2161 [01:45<00:00, 20.56it/s]\n"
     ]
    },
    {
     "name": "stdout",
     "output_type": "stream",
     "text": [
      "Epoch 03 | Train Loss: 0.8913 | Train Acc: 0.7778 | Train F1: 0.6805 | Val Loss: 0.6805 | Val Acc: 0.7775 | Val F1: 0.6801\n"
     ]
    },
    {
     "name": "stderr",
     "output_type": "stream",
     "text": [
      "Training: 100%|██████████| 8644/8644 [21:35<00:00,  6.67it/s]\n",
      "Validating: 100%|██████████| 2161/2161 [01:45<00:00, 20.57it/s]\n"
     ]
    },
    {
     "name": "stdout",
     "output_type": "stream",
     "text": [
      "Epoch 04 | Train Loss: 0.8912 | Train Acc: 0.7778 | Train F1: 0.6805 | Val Loss: 0.6812 | Val Acc: 0.7775 | Val F1: 0.6801\n"
     ]
    },
    {
     "name": "stderr",
     "output_type": "stream",
     "text": [
      "Training: 100%|██████████| 8644/8644 [21:40<00:00,  6.65it/s]\n",
      "Validating: 100%|██████████| 2161/2161 [01:44<00:00, 20.59it/s]\n"
     ]
    },
    {
     "name": "stdout",
     "output_type": "stream",
     "text": [
      "Epoch 05 | Train Loss: 0.8912 | Train Acc: 0.7778 | Train F1: 0.6805 | Val Loss: 0.6816 | Val Acc: 0.7775 | Val F1: 0.6801\n"
     ]
    },
    {
     "name": "stderr",
     "output_type": "stream",
     "text": [
      "Training: 100%|██████████| 8644/8644 [21:35<00:00,  6.67it/s]\n",
      "Validating: 100%|██████████| 2161/2161 [01:44<00:00, 20.59it/s]\n"
     ]
    },
    {
     "name": "stdout",
     "output_type": "stream",
     "text": [
      "Epoch 06 | Train Loss: 0.8912 | Train Acc: 0.7778 | Train F1: 0.6805 | Val Loss: 0.6813 | Val Acc: 0.7775 | Val F1: 0.6801\n"
     ]
    },
    {
     "name": "stderr",
     "output_type": "stream",
     "text": [
      "Training: 100%|██████████| 8644/8644 [21:19<00:00,  6.75it/s]\n",
      "Validating: 100%|██████████| 2161/2161 [01:44<00:00, 20.75it/s]\n"
     ]
    },
    {
     "name": "stdout",
     "output_type": "stream",
     "text": [
      "Epoch 07 | Train Loss: 0.8913 | Train Acc: 0.7778 | Train F1: 0.6805 | Val Loss: 0.6810 | Val Acc: 0.7775 | Val F1: 0.6801\n"
     ]
    },
    {
     "name": "stderr",
     "output_type": "stream",
     "text": [
      "Training: 100%|██████████| 8644/8644 [22:15<00:00,  6.47it/s]\n",
      "Validating: 100%|██████████| 2161/2161 [01:48<00:00, 19.95it/s]\n"
     ]
    },
    {
     "name": "stdout",
     "output_type": "stream",
     "text": [
      "Epoch 08 | Train Loss: 0.8911 | Train Acc: 0.7778 | Train F1: 0.6805 | Val Loss: 0.6806 | Val Acc: 0.7775 | Val F1: 0.6801\n"
     ]
    },
    {
     "name": "stderr",
     "output_type": "stream",
     "text": [
      "Training: 100%|██████████| 8644/8644 [22:17<00:00,  6.46it/s]\n",
      "Validating: 100%|██████████| 2161/2161 [01:46<00:00, 20.38it/s]\n"
     ]
    },
    {
     "name": "stdout",
     "output_type": "stream",
     "text": [
      "Epoch 09 | Train Loss: 0.8913 | Train Acc: 0.7778 | Train F1: 0.6805 | Val Loss: 0.6806 | Val Acc: 0.7775 | Val F1: 0.6801\n"
     ]
    },
    {
     "name": "stderr",
     "output_type": "stream",
     "text": [
      "Training: 100%|██████████| 8644/8644 [22:20<00:00,  6.45it/s]\n",
      "Validating: 100%|██████████| 2161/2161 [01:47<00:00, 20.07it/s]\n"
     ]
    },
    {
     "name": "stdout",
     "output_type": "stream",
     "text": [
      "Epoch 10 | Train Loss: 0.8910 | Train Acc: 0.7778 | Train F1: 0.6805 | Val Loss: 0.6809 | Val Acc: 0.7775 | Val F1: 0.6801\n",
      "Prototype for class 0 (Non Demented): [ 1.1991891 -0.3640092 -1.5637261 -3.8479369] ...\n",
      "Prototype for class 1 (Very mild Dementia): [ 1.199191  -0.3640086 -1.5637175 -3.847944 ] ...\n",
      "Prototype for class 2 (Mild Dementia): [ 1.1991907  -0.36400867 -1.5637181  -3.8479438 ] ...\n",
      "Prototype for class 3 (Moderate Dementia): [ 1.199192  -0.3640083 -1.5637134 -3.8479486] ...\n"
     ]
    }
   ],
   "source": [
    "def train_joint(model, dataloader, optimizer, criterion_cls, criterion_cont, device):  # Define joint training function\n",
    "    model.train()  # Set model to training mode\n",
    "    total_loss = 0.0  # Initialize total loss\n",
    "    correct = 0  # Initialize correct predictions count\n",
    "    all_preds = []  # Initialize list for predictions\n",
    "    all_labels = []  # Initialize list for true labels\n",
    "\n",
    "    for patches, labels in tqdm(dataloader, desc=\"Training\"):  # Iterate through dataloader with progress bar\n",
    "        patches, labels = patches.to(device), labels.to(device)  # Move data to device\n",
    "        noisy = patches + .3 * torch.randn_like(patches)  # Add Gaussian noise to patches\n",
    "\n",
    "        logits_clean = model(patches)  # Forward pass on clean patches\n",
    "        logits_noisy = model(noisy)  # Forward pass on noisy patches\n",
    "\n",
    "        loss_cls = criterion_cls(logits_clean, labels)  # Compute classification loss\n",
    "        loss_cont = criterion_cont(logits_clean, logits_noisy)  # Compute contrastive loss\n",
    "\n",
    "        loss = loss_cls + 0.1 * loss_cont  # Combine losses with weighting\n",
    "        optimizer.zero_grad()  # Clear gradients\n",
    "        loss.backward()  # Compute gradients\n",
    "        optimizer.step()  # Update model parameters\n",
    "\n",
    "        total_loss += loss.item()  # Accumulate loss\n",
    "        preds = torch.argmax(logits_clean, dim=1)  # Get predicted classes\n",
    "        correct += (preds == labels).sum().item()  # Count correct predictions\n",
    "        all_preds.extend(preds.cpu().numpy())  # Collect predictions\n",
    "        all_labels.extend(labels.cpu().numpy())  # Collect true labels\n",
    "\n",
    "    avg_loss = total_loss / len(dataloader)  # Compute average loss\n",
    "    accuracy = accuracy_score(all_labels, all_preds)  # Compute accuracy\n",
    "    f1 = f1_score(all_labels, all_preds, average='weighted')  # Compute weighted F1 score\n",
    "    return avg_loss, accuracy, f1, all_preds, all_labels  # Return metrics and predictions\n",
    "\n",
    "def validate(model, dataloader, criterion_cls, device):  # Define validation function\n",
    "    model.eval()  # Set model to evaluation mode\n",
    "    total_loss = 0.0  # Initialize total loss\n",
    "    all_preds = []  # Initialize list for predictions\n",
    "    all_labels = []  # Initialize list for true labels\n",
    "\n",
    "    with torch.no_grad():  # Disable gradient computation\n",
    "        for patches, labels in tqdm(dataloader, desc=\"Validating\"):  # Iterate through dataloader with progress bar\n",
    "            patches, labels = patches.to(device), labels.to(device)  # Move data to device\n",
    "            logits = model(patches)  # Forward pass\n",
    "            loss = criterion_cls(logits, labels)  # Compute classification loss\n",
    "            total_loss += loss.item()  # Accumulate loss\n",
    "            preds = torch.argmax(logits, dim=1)  # Get predicted classes\n",
    "            all_preds.extend(preds.cpu().numpy())  # Collect predictions\n",
    "            all_labels.extend(labels.cpu().numpy())  # Collect true labels\n",
    "\n",
    "    avg_loss = total_loss / len(dataloader)  # Compute average loss\n",
    "    accuracy = accuracy_score(all_labels, all_preds)  # Compute accuracy\n",
    "    f1 = f1_score(all_labels, all_preds, average='weighted')  # Compute weighted F1 score\n",
    "    return avg_loss, accuracy, f1, all_preds, all_labels  # Return metrics and predictions\n",
    "\n",
    "def compute_prototypes(model, loader, device):  # Define function to compute class prototypes\n",
    "    model.eval()  # Set model to evaluation mode\n",
    "    class_feats = {}  # Initialize dictionary for class features\n",
    "\n",
    "    with torch.no_grad():  # Disable gradient computation\n",
    "        for patches, labels in loader:  # Iterate through dataloader\n",
    "            patches, labels = patches.to(device), labels.to(device)  # Move data to device\n",
    "            feats = model(patches)  # Forward pass to get features (logits)\n",
    "\n",
    "            for i, lbl in enumerate(labels):  # Iterate through batch\n",
    "                c = lbl.item()  # Get class label\n",
    "                if c not in class_feats:  # Check if class is in dictionary\n",
    "                    class_feats[c] = []  # Initialize list for class features\n",
    "                class_feats[c].append(feats[i].cpu())  # Append features to class\n",
    "\n",
    "    prototypes = {c: torch.stack(class_feats[c]).mean(0) for c in class_feats}  # Compute mean feature for each class\n",
    "    return prototypes  # Return prototypes\n",
    "\n",
    "def plot_confusion_matrix(labels, preds, class_names, epoch):  # Define function to plot confusion matrix\n",
    "    cm = confusion_matrix(labels, preds)  # Compute confusion matrix\n",
    "    plt.figure(figsize=(8, 6))  # Create figure with size 8x6\n",
    "    sns.heatmap(cm, annot=True, fmt='d', cmap='Blues', xticklabels=class_names, yticklabels=class_names)  # Plot heatmap\n",
    "    plt.title(f'Confusion Matrix (Epoch {epoch+1})')  # Set title with epoch number\n",
    "    plt.xlabel('Predicted')  # Label x-axis\n",
    "    plt.ylabel('True')  # Label y-axis\n",
    "    plt.savefig(f'confusion_matrix_epoch_{epoch+1}.png')  # Save plot to file\n",
    "    plt.close()  # Close figure\n",
    "\n",
    "def plot_validation_curves(train_accs, val_accs, train_f1s, val_f1s, train_losses, val_losses):  # Define function to plot validation curves\n",
    "    epochs = range(1, len(train_accs) + 1)  # Create range of epochs\n",
    "    plt.figure(figsize=(12, 4))  # Create figure with size 12x4\n",
    "\n",
    "    plt.subplot(1, 3, 1)  # Create first subplot for accuracy\n",
    "    plt.plot(epochs, train_accs, 'b-', label='Train Accuracy')  # Plot training accuracy\n",
    "    plt.plot(epochs, val_accs, 'r-', label='Validation Accuracy')  # Plot validation accuracy\n",
    "    plt.title('Accuracy Curve')  # Set title\n",
    "    plt.xlabel('Epoch')  # Label x-axis\n",
    "    plt.ylabel('Accuracy')  # Label y-axis\n",
    "    plt.legend()  # Show legend\n",
    "    plt.grid(True)  # Enable grid\n",
    "\n",
    "    plt.subplot(1, 3, 2)  # Create second subplot for F1 score\n",
    "    plt.plot(epochs, train_f1s, 'b-', label='Train F1 Score')  # Plot training F1 score\n",
    "    plt.plot(epochs, val_f1s, 'r-', label='Validation F1 Score')  # Plot validation F1 score\n",
    "    plt.title('F1 Score Curve')  # Set title\n",
    "    plt.xlabel('Epoch')  # Label x-axis\n",
    "    plt.ylabel('F1 Score')  # Label y-axis\n",
    "    plt.legend()  # Show legend\n",
    "    plt.grid(True)  # Enable grid\n",
    "\n",
    "    plt.subplot(1, 3, 3)  # Create third subplot for loss\n",
    "    plt.plot(epochs, train_losses, 'b-', label='Train Loss')  # Plot training loss\n",
    "    plt.plot(epochs, val_losses, 'r-', label='Validation Loss')  # Plot validation loss\n",
    "    plt.title('Loss Curve')  # Set title\n",
    "    plt.xlabel('Epoch')  # Label x-axis\n",
    "    plt.ylabel('Loss')  # Label y-axis\n",
    "    plt.legend()  # Show legend\n",
    "    plt.grid(True)  # Enable grid\n",
    "\n",
    "    plt.tight_layout()  # Adjust layout to prevent overlap\n",
    "    plt.savefig('validation_curves.png')  # Save plot to file\n",
    "    plt.close()  # Close figure\n",
    "\n",
    "if __name__ == \"__main__\":  # Main execution block\n",
    "    device = torch.device(\"cuda\" if torch.cuda.is_available() else \"cpu\")  # Select GPU if available, else CPU\n",
    "\n",
    "    transform = transforms.Compose([  # Define image transformations\n",
    "        transforms.Resize((128, 128)),  # Resize images to 128x128\n",
    "        transforms.ToTensor(),  # Convert images to tensors\n",
    "    ])\n",
    "\n",
    "    dataset = OASIS2DDataset(DATA_ROOT, class_names, transform=transform)  # Create dataset instance\n",
    "    train_size = int(0.8 * len(dataset))  # Calculate training set size (80%)\n",
    "    test_size = len(dataset) - train_size  # Calculate test set size (20%)\n",
    "    train_set, test_set = torch.utils.data.random_split(dataset, [train_size, test_size])  # Split dataset\n",
    "\n",
    "    train_loader = DataLoader(train_set, batch_size=8, shuffle=True, num_workers=2, pin_memory=True)  # Create training DataLoader\n",
    "    test_loader = DataLoader(test_set, batch_size=8, shuffle=False, num_workers=2, pin_memory=True)  # Create test DataLoader\n",
    "\n",
    "    model = QNNMILClassifier(n_qubits=4, num_classes=len(class_names)).to(device)  # Initialize model and move to device\n",
    "\n",
    "    optimizer = torch.optim.Adam(model.parameters(), lr=0.01)  # Initialize Adam optimizer\n",
    "    loss_fn = nn.CrossEntropyLoss()  # Initialize cross-entropy loss\n",
    "    contrast_fn = ContrastiveLoss()  # Initialize contrastive loss\n",
    "\n",
    "    print(\"\\n▶️  Training with contrastive + classification loss...\\n\")  # Print training start message\n",
    "    num_epochs = 10  # Set number of epochs\n",
    "    train_accs, val_accs = [], []  # Initialize lists for accuracies\n",
    "    train_f1s, val_f1s = [], []  # Initialize lists for F1 scores\n",
    "    train_losses, val_losses = [], []  # Initialize lists for losses\n",
    "\n",
    "    for epoch in range(num_epochs):  # Iterate through epochs\n",
    "        train_loss, train_acc, train_f1, train_preds, train_labels = train_joint(\n",
    "            model, train_loader, optimizer, loss_fn, contrast_fn, device\n",
    "        )  # Train model for one epoch\n",
    "        val_loss, val_acc, val_f1, val_preds, val_labels = validate(\n",
    "            model, test_loader, loss_fn, device\n",
    "        )  # Validate model\n",
    "\n",
    "        train_accs.append(train_acc)  # Store training accuracy\n",
    "        val_accs.append(val_acc)  # Store validation accuracy\n",
    "        train_f1s.append(train_f1)  # Store training F1 score\n",
    "        val_f1s.append(val_f1)  # Store validation F1 score\n",
    "        train_losses.append(train_loss)  # Store training loss\n",
    "        val_losses.append(val_loss)  # Store validation loss\n",
    "\n",
    "        print(f\"Epoch {epoch+1:02d} | \"\n",
    "              f\"Train Loss: {train_loss:.4f} | Train Acc: {train_acc:.4f} | Train F1: {train_f1:.4f} | \"\n",
    "              f\"Val Loss: {val_loss:.4f} | Val Acc: {val_acc:.4f} | Val F1: {val_f1:.4f}\")  # Print epoch metrics\n",
    "\n",
    "        plot_confusion_matrix(val_labels, val_preds, class_names, epoch)  # Plot confusion matrix for validation\n",
    "\n",
    "    plot_validation_curves(train_accs, val_accs, train_f1s, val_f1s, train_losses, val_losses)  # Plot validation curves\n",
    "\n",
    "    prototypes = compute_prototypes(model, train_loader, device)  # Compute prototypes on training set\n",
    "    for cls_idx, proto in prototypes.items():  # Iterate through prototypes\n",
    "        print(f\"Prototype for class {cls_idx} ({class_names[cls_idx]}): {proto.numpy()[:5]} ...\")  # Print prototype features"
   ]
  }
 ],
 "metadata": {
  "kaggle": {
   "accelerator": "nvidiaTeslaT4",
   "dataSources": [
    {
     "datasetId": 3419493,
     "sourceId": 5962731,
     "sourceType": "datasetVersion"
    }
   ],
   "dockerImageVersionId": 31041,
   "isGpuEnabled": true,
   "isInternetEnabled": true,
   "language": "python",
   "sourceType": "notebook"
  },
  "kernelspec": {
   "display_name": "Python 3",
   "language": "python",
   "name": "python3"
  },
  "language_info": {
   "codemirror_mode": {
    "name": "ipython",
    "version": 3
   },
   "file_extension": ".py",
   "mimetype": "text/x-python",
   "name": "python",
   "nbconvert_exporter": "python",
   "pygments_lexer": "ipython3",
   "version": "3.11.11"
  },
  "papermill": {
   "default_parameters": {},
   "duration": 14631.867471,
   "end_time": "2025-06-02T12:19:35.026091",
   "environment_variables": {},
   "exception": null,
   "input_path": "__notebook__.ipynb",
   "output_path": "__notebook__.ipynb",
   "parameters": {},
   "start_time": "2025-06-02T08:15:43.158620",
   "version": "2.6.0"
  }
 },
 "nbformat": 4,
 "nbformat_minor": 5
}
